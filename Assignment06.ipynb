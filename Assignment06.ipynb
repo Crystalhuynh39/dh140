{
 "cells": [
  {
   "cell_type": "markdown",
   "id": "895b87c8-19ea-402d-b5c7-a14acb694f88",
   "metadata": {},
   "source": [
    "# Assignment 6"
   ]
  },
  {
   "cell_type": "markdown",
   "id": "d7c7b00e-004a-4338-a8c8-d6d5b6ce8b41",
   "metadata": {},
   "source": [
    "## Text Analysis"
   ]
  },
  {
   "cell_type": "markdown",
   "id": "3566cb67-dbea-4666-b3e5-dcd76bf9ffac",
   "metadata": {},
   "source": [
    "### Step 2: Shakespeare word frequency\n",
    "- Make a Python string that contains the text of a Shakespeare play (obtained, for example, from Project Gutenberg)\n",
    "    - You can use requests and BeautifulSoup to get the text or you can read in the content from a file, but do not copy the entire play into a notebook cell\n",
    "- Tokenize the words and remove stopwords\n",
    "- Find the top 20 most frequent words in the play\n",
    "- Comment on whether these words give an accurate sense of the play"
   ]
  },
  {
   "cell_type": "code",
   "execution_count": 1,
   "id": "f1e5ce5f-d57c-4e63-a8f0-7d3f88b592cd",
   "metadata": {},
   "outputs": [
    {
     "name": "stderr",
     "output_type": "stream",
     "text": [
      "[nltk_data] Downloading package stopwords to /home/jovyan/nltk_data...\n",
      "[nltk_data]   Package stopwords is already up-to-date!\n"
     ]
    }
   ],
   "source": [
    "import nltk\n",
    "from nltk.tokenize import word_tokenize, sent_tokenize\n",
    "import requests\n",
    "from bs4 import BeautifulSoup\n",
    "from nltk.corpus import stopwords\n",
    "from string import punctuation\n",
    "nltk.download('stopwords')\n",
    "from nltk.collocations import *"
   ]
  },
  {
   "cell_type": "code",
   "execution_count": 2,
   "id": "1834c456-bc9e-4af8-bda4-bed3ecf84786",
   "metadata": {},
   "outputs": [
    {
     "data": {
      "text/plain": [
       "<Response [200]>"
      ]
     },
     "execution_count": 2,
     "metadata": {},
     "output_type": "execute_result"
    }
   ],
   "source": [
    "response = requests.get('https://www.gutenberg.org/ebooks/1531.txt.utf-8')\n",
    "response"
   ]
  },
  {
   "cell_type": "code",
   "execution_count": 4,
   "id": "23ca93e5-42d7-494b-90de-c2a3180020bf",
   "metadata": {
    "tags": []
   },
   "outputs": [],
   "source": [
    "# Save all the html in a string variable\n",
    "html_string = response.text\n",
    "othello = html_string.lower()\n",
    "\n",
    "# Use BeautifulSoup to create a new object that will allow you to search for HTML tags\n",
    "document = BeautifulSoup(othello, \"html.parser\")\n",
    "#document\n",
    "#html_string"
   ]
  },
  {
   "cell_type": "code",
   "execution_count": 5,
   "id": "2e2af221-dafc-4940-9121-3f7473b62d15",
   "metadata": {},
   "outputs": [],
   "source": [
    "sent = sent_tokenize(othello)"
   ]
  },
  {
   "cell_type": "code",
   "execution_count": 6,
   "id": "2d35c8a4-e2fb-4bf7-9c89-6519ba15c578",
   "metadata": {},
   "outputs": [],
   "source": [
    "words = []\n",
    "for s in sent:\n",
    "    for w in word_tokenize(s):\n",
    "        words.append(w)"
   ]
  },
  {
   "cell_type": "code",
   "execution_count": 7,
   "id": "f1c0d88d-a8ea-4908-a882-c8bcc897a0c3",
   "metadata": {
    "tags": []
   },
   "outputs": [],
   "source": [
    "myStopWords = list(punctuation) + stopwords.words('english')\n",
    "wordsNoStop = []\n",
    "for i in words:\n",
    "    if i not in myStopWords:\n",
    "        wordsNoStop.append(i)\n",
    "#print(words)\n",
    "#print(wordsNoStop)"
   ]
  },
  {
   "cell_type": "code",
   "execution_count": 8,
   "id": "a75d8e2a-3eed-4ead-bb93-39b15bb8690d",
   "metadata": {},
   "outputs": [],
   "source": [
    "wordsNoStopComp = [w for w in words if w not in myStopWords]\n",
    "#print(wordsNoStopComp)"
   ]
  },
  {
   "cell_type": "code",
   "execution_count": 9,
   "id": "8ce4aaf5-b342-4e64-99c0-8750012024cc",
   "metadata": {},
   "outputs": [
    {
     "name": "stdout",
     "output_type": "stream",
     "text": [
      "[('’', 871), ('iago', 353), ('othello', 337), ('cassio', 248), ('desdemona', 223), ('thou', 143), ('emilia', 129), ('shall', 100), ('roderigo', 98), ('good', 92), ('lord', 90), ('project', 89), ('tis', 86), ('let', 83), ('come', 82), ('thy', 80), ('would', 80), ('love', 80), ('well', 80), ('may', 75)]\n"
     ]
    }
   ],
   "source": [
    "from collections import Counter\n",
    "Counter = Counter(wordsNoStopComp)\n",
    "most_occur = Counter.most_common(20)\n",
    "print(most_occur)"
   ]
  },
  {
   "cell_type": "markdown",
   "id": "a6850e93-d61b-4d66-9436-548252f870f1",
   "metadata": {},
   "source": [
    "These words give an accurate sense of the characters in the play more than the actual content or plot of the play. \n",
    "\n",
    "With the character names we see, we can get a sense of who the play revolves around and the old english words that are frequently used gives us a sense of the genre if one did not know what text these words were from. However, these words don't tell us much about what the play is actually about."
   ]
  },
  {
   "cell_type": "markdown",
   "id": "03e79550-ea22-4430-95f4-9ae87dcb555c",
   "metadata": {},
   "source": [
    "### Step 3: Yelp sentiments\n",
    "\n",
    "- Find your favorite restaurant on Yelp and copy 15 of its reviews into your notebook as Python strings\n",
    "    - You don't have to use requests for this, you can just copy and paste from a browser\n",
    "- Also note the numbers of stars for each review in your notebook\n",
    "- Use Vader to find the polarity of each review\n",
    "- Compare Vader's scores against user-specified numbers of stars"
   ]
  },
  {
   "cell_type": "code",
   "execution_count": 50,
   "id": "b572eaa7-4c01-4840-9284-dc57a0887086",
   "metadata": {},
   "outputs": [
    {
     "name": "stderr",
     "output_type": "stream",
     "text": [
      "[nltk_data] Downloading package vader_lexicon to\n",
      "[nltk_data]     /home/jovyan/nltk_data...\n",
      "[nltk_data]   Package vader_lexicon is already up-to-date!\n"
     ]
    },
    {
     "data": {
      "text/plain": [
       "True"
      ]
     },
     "execution_count": 50,
     "metadata": {},
     "output_type": "execute_result"
    }
   ],
   "source": [
    "import nltk\n",
    "from nltk.sentiment import vader\n",
    "nltk.download('vader_lexicon')"
   ]
  },
  {
   "cell_type": "code",
   "execution_count": 51,
   "id": "0731cef2-46b8-440c-82d3-55d73ae9d7ea",
   "metadata": {},
   "outputs": [],
   "source": [
    "sia = vader.SentimentIntensityAnalyzer()"
   ]
  },
  {
   "cell_type": "code",
   "execution_count": 52,
   "id": "4a5059e3-8d54-4b9a-80e7-9924dd77a574",
   "metadata": {},
   "outputs": [
    {
     "data": {
      "text/plain": [
       "{'neg': 0.012, 'neu': 0.824, 'pos': 0.165, 'compound': 0.9718}"
      ]
     },
     "execution_count": 52,
     "metadata": {},
     "output_type": "execute_result"
    }
   ],
   "source": [
    "#4 stars\n",
    "review1 = 'Four stars for the quality of the food  and service we received. My wife is Japanese and very much enjoyed the teriyaki bento box she ordered. My kids loved their dishes (one ordered the giyoza dish and one ordered the udon). I got the chicken katsu with yellow tail lunch bento box special, and I was very pleased with my dish. Portions were good sized during our visit and price was right.  Staff were pleasant and attentive. The place definitely had the vibe of a bustling Japanese style diner, which we liked. We were there for lunch, and there was definitely a crowd. Now for the bad. I grew up with parents who lived in Japan. They always talk about how clean things are there. Like, impeccably clean. The place was not dirty, but it definitely could have used some cleaning, dusting, and sprucing up. When paying for my meal, I noted a cloth flag/divider behind the main cash register that was dirty to the naked eye that made me think - that could use a wash. The floor had a slippery yet sticky feel to it'\n",
    "sia.polarity_scores(review1)"
   ]
  },
  {
   "cell_type": "markdown",
   "id": "3c5e200c-b8c8-404d-856d-1fed0b809a2e",
   "metadata": {},
   "source": [
    "Review 1 had a 4 stars rating meaning the reviewer had a more positive experience. The compound score reflects a relatively more positive experience as well which is consistent with the star rating."
   ]
  },
  {
   "cell_type": "code",
   "execution_count": 53,
   "id": "342f6164-9fcb-4a92-9168-f516e41ba709",
   "metadata": {},
   "outputs": [
    {
     "data": {
      "text/plain": [
       "{'neg': 0.043, 'neu': 0.762, 'pos': 0.195, 'compound': 0.9578}"
      ]
     },
     "execution_count": 53,
     "metadata": {},
     "output_type": "execute_result"
    }
   ],
   "source": [
    "#3 stars\n",
    "review2 = 'Not as good as I remembered it growing up, but still worth eating at if your in the area looking for a bite.  They have daily specials they write on the board near the cash register with trying.  There is plenty of seating indoor and outdoor and it is a very kid friendly.  The sushi is okay here we got the Hawaiian roll, Shrimp tempura and a rainbow roll, nothing out of the ordinary here.  We really love the chicken Katsu here and is our go to meal.  Staff is still friendly and service is still good.'\n",
    "sia.polarity_scores(review2)"
   ]
  },
  {
   "cell_type": "markdown",
   "id": "06bd5893-7e7a-4679-8e75-5cb2cb7dd1dc",
   "metadata": {},
   "source": [
    "Review 2 had a 3 stars rating meaning the reviewer had a nuetral experience. The compound score reflects a relatively more positive experience which differs from the star rating."
   ]
  },
  {
   "cell_type": "code",
   "execution_count": 54,
   "id": "9df2782f-6969-4e3c-a784-21785cad2752",
   "metadata": {},
   "outputs": [
    {
     "data": {
      "text/plain": [
       "{'neg': 0.061, 'neu': 0.868, 'pos': 0.071, 'compound': 0.1767}"
      ]
     },
     "execution_count": 54,
     "metadata": {},
     "output_type": "execute_result"
    }
   ],
   "source": [
    "#3 stars\n",
    "review3 = 'Niban was the first place I tried sushi....seems like a lifetime ago. I remember my 1st visit where I mistakenly ordered a Philadelphia Roll (not knowing it had raw fish) I thought the Wasabi was avacado and my nostrils really felt the burn. I used to love getting the Chicken Katsu and Fried Seafood mix here. Fast forward years later I came back to try Teriyaki Beef with a side of Seafood Mix . The beef was fine and loved the little noodles on the side where I have not seen anywhere else. I missed the taste of little zingy noodles. I think that was one of the reasons why I wanted to come back. The Seafood Mix made me sad. It was overcooked. One piece was so tough it had the consistency of an eraser. I could not even bite into it. I tried the Yellow Tail and it tasted just okay. It was nice to come back but the food was not as good as I remembered.'\n",
    "sia.polarity_scores(review3)"
   ]
  },
  {
   "cell_type": "markdown",
   "id": "a7f83b5b-94c0-4a38-82ff-2439aed2b44d",
   "metadata": {},
   "source": [
    "Review 3 had a 3 stars rating meaning the reviewer had a neutral experience. The compound score reflects a nuetral, slightly more positive experience which is pretty consistent with the star rating."
   ]
  },
  {
   "cell_type": "code",
   "execution_count": 55,
   "id": "424afe9e-2b2e-4253-b280-f171d0d72334",
   "metadata": {},
   "outputs": [
    {
     "data": {
      "text/plain": [
       "{'neg': 0.0, 'neu': 0.725, 'pos': 0.275, 'compound': 0.9887}"
      ]
     },
     "execution_count": 55,
     "metadata": {},
     "output_type": "execute_result"
    }
   ],
   "source": [
    "#5 stars\n",
    "review4 = 'Been going to this restaurant for over 20 years. Still AWESOME and delicious as always, same great service and quality Japanese food reasonably priced. I am sure I have a lot of their food pictures from the past but this place knows consistency and quality food. They have always made sure their food is fresh and that they hold high value what they serve to you. That is why they have been around for such a long time. Like us, they have many loyal customers that  would travel a good distance just to get their food. Highly recommend!!! ! Make sure you check the restaurant hours as they are closed for a few hours in between the day.'\n",
    "sia.polarity_scores(review4)"
   ]
  },
  {
   "cell_type": "markdown",
   "id": "cc262afe-6471-4518-9ddc-9813f61cc138",
   "metadata": {},
   "source": [
    "Review 4 had a 5 stars rating meaning the reviewer had a positive experience. The compound score reflects a  positive experience which is consistent with the star rating."
   ]
  },
  {
   "cell_type": "code",
   "execution_count": 56,
   "id": "1578fd92-a3f9-4b87-92de-88e397303095",
   "metadata": {},
   "outputs": [
    {
     "data": {
      "text/plain": [
       "{'neg': 0.115, 'neu': 0.821, 'pos': 0.064, 'compound': -0.8176}"
      ]
     },
     "execution_count": 56,
     "metadata": {},
     "output_type": "execute_result"
    }
   ],
   "source": [
    "#3 stars\n",
    "review5 = 'So you order the sit and wait for it to be delivered.  We had to ask for napkins, utensils & water.  Table was sticky.  Not cleanable.  All tables had same sticky surface like they had been wiped with acid.  Easy fix with shelf paper.  So we used a few napkins because sticky table was so yucky.  No one asked if we wanted more water or needed anything else- like soy sauce or pickled ginger.  The food was fine as was price but it was not comfortable.  Most likey will not come here again, maybe take out. Too bad'\n",
    "sia.polarity_scores(review5)"
   ]
  },
  {
   "cell_type": "markdown",
   "id": "77dcfc7b-c979-481f-a732-6622e69ef7b8",
   "metadata": {},
   "source": [
    "Review 5 had a 3 stars rating meaning the reviewer had a neutral experience. The compound score reflects a more negative experience which differs from the star rating."
   ]
  },
  {
   "cell_type": "code",
   "execution_count": 57,
   "id": "a5a1aa95-7304-4589-8153-7f5cb9a77b17",
   "metadata": {},
   "outputs": [
    {
     "data": {
      "text/plain": [
       "{'neg': 0.0, 'neu': 0.639, 'pos': 0.361, 'compound': 0.9732}"
      ]
     },
     "execution_count": 57,
     "metadata": {},
     "output_type": "execute_result"
    }
   ],
   "source": [
    "#4 stars\n",
    "review6 = 'Pretty good Japanese food. Lunch special recommended was the chicken teriyaki special. Just under $10 with plenty of food. I could not finish the salad or rice, however, the chicken was probably one of the best teriyaki dishes I can recall. Good food and good prices. Plenty of sushi options as well to try next trip.' \n",
    "sia.polarity_scores(review6)"
   ]
  },
  {
   "cell_type": "markdown",
   "id": "0d49db81-9335-4e8f-a4a1-a7d3c5da445c",
   "metadata": {},
   "source": [
    "Review 6 had a 4 stars rating meaning the reviewer had a more positive experience. The compound score reflects a positive experience which is consistent with the star rating."
   ]
  },
  {
   "cell_type": "code",
   "execution_count": 58,
   "id": "02ffc482-c835-41ba-954d-f58eb50e66bc",
   "metadata": {},
   "outputs": [
    {
     "data": {
      "text/plain": [
       "{'neg': 0.156, 'neu': 0.804, 'pos': 0.04, 'compound': -0.7866}"
      ]
     },
     "execution_count": 58,
     "metadata": {},
     "output_type": "execute_result"
    }
   ],
   "source": [
    "#1 star\n",
    "review7 = 'Do not bother. This place serves substandard food. The \"jumbo\" shrimp were skinny and coated with think bread crumb. Everything was salty. I ended up not eating most of the food because they were so bad. Wasted $25 for two and will never go back.'\n",
    "sia.polarity_scores(review7)"
   ]
  },
  {
   "cell_type": "markdown",
   "id": "3ad8b08c-57c1-4655-91f1-6fe99be6d70d",
   "metadata": {},
   "source": [
    "Review 7 had a 1 star rating meaning the reviewer had a negative experience. The compound score reflects a negative experience which is consistent with the star rating."
   ]
  },
  {
   "cell_type": "code",
   "execution_count": 59,
   "id": "e9a1092b-b26e-4af0-a5e7-89f5564ec433",
   "metadata": {},
   "outputs": [
    {
     "data": {
      "text/plain": [
       "{'neg': 0.0, 'neu': 0.482, 'pos': 0.518, 'compound': 0.8947}"
      ]
     },
     "execution_count": 59,
     "metadata": {},
     "output_type": "execute_result"
    }
   ],
   "source": [
    "#5 stars\n",
    "review8 = 'We love coming here for sushi. The servers are very nice and friendly.'\n",
    "sia.polarity_scores(review8)"
   ]
  },
  {
   "cell_type": "markdown",
   "id": "9dd5f20f-83aa-4ea8-b1de-1205830cbfae",
   "metadata": {},
   "source": [
    "Review 8 had a 5 stars rating meaning the reviewer had a positive experience. The compound score reflects a positive experience which is consistent with the star rating."
   ]
  },
  {
   "cell_type": "code",
   "execution_count": 60,
   "id": "f1fd665b-b6c1-4228-bb65-4198659a7fae",
   "metadata": {},
   "outputs": [
    {
     "data": {
      "text/plain": [
       "{'neg': 0.216, 'neu': 0.784, 'pos': 0.0, 'compound': -0.9549}"
      ]
     },
     "execution_count": 60,
     "metadata": {},
     "output_type": "execute_result"
    }
   ],
   "source": [
    "#1 star\n",
    "review9 = 'Dude stay away from this place!!! They are unprofessional and liars. They did not answer their phone from opening.  And then lied about it. The girl at the counter attempted to force me to take my order after I requested a refund. I am not going to wait 30 minutes because you chose to send out first the food people which are dining in. And then waste more time refusing  to give me a refund.This is appalling.'\n",
    "sia.polarity_scores(review9)"
   ]
  },
  {
   "cell_type": "markdown",
   "id": "ff31291d-cad7-46a2-92b3-84cf7502a1c0",
   "metadata": {},
   "source": [
    "Review 9 had a 1 star rating meaning the reviewer had a negative experience. The compound score reflects a negative experience which is consistent with the star rating."
   ]
  },
  {
   "cell_type": "code",
   "execution_count": 61,
   "id": "26617476-5f6f-439e-a68e-67dd1711404c",
   "metadata": {},
   "outputs": [
    {
     "data": {
      "text/plain": [
       "{'neg': 0.0, 'neu': 0.625, 'pos': 0.375, 'compound': 0.9583}"
      ]
     },
     "execution_count": 61,
     "metadata": {},
     "output_type": "execute_result"
    }
   ],
   "source": [
    "#5 stars\n",
    "review10 = 'Absolutely happy my family actually came across this place while getting McDonalds for my son. Food was absolutely delicious, staff was great and friendly. I wish I lived in the area because I would patronize this restaurant regularly.'\n",
    "sia.polarity_scores(review10)"
   ]
  },
  {
   "cell_type": "markdown",
   "id": "5386424d-afce-4fe3-8e29-99d1845c1a5b",
   "metadata": {},
   "source": [
    "Review 10 had a 5 stars rating meaning the reviewer had a positive experience. The compound score reflects a positive experience which is consistent with the star rating."
   ]
  },
  {
   "cell_type": "code",
   "execution_count": 62,
   "id": "2184593c-7a87-489b-b00e-32ace865c6aa",
   "metadata": {},
   "outputs": [
    {
     "data": {
      "text/plain": [
       "{'neg': 0.039, 'neu': 0.799, 'pos': 0.162, 'compound': 0.8669}"
      ]
     },
     "execution_count": 62,
     "metadata": {},
     "output_type": "execute_result"
    }
   ],
   "source": [
    "#4 stars\n",
    "review11 = 'This used to be my go to spot but it has been years since I have visited! I recently had time to stop by to pick up some lunch before work. I got the orange blossom roll, dragon roll, salmon hand roll and the calamari appetizer. The food still taste the same after all these years. Definitely will be giving them another visit soon!'\n",
    "sia.polarity_scores(review11)"
   ]
  },
  {
   "cell_type": "markdown",
   "id": "87121d09-3e2a-4eef-8682-0b767915b68a",
   "metadata": {},
   "source": [
    "Review 11 had a 4 stars rating meaning the reviewer had a more positive experience. The compound score reflects a positive experience which is consistent with the star rating."
   ]
  },
  {
   "cell_type": "code",
   "execution_count": 63,
   "id": "ee41804d-b96d-4d00-9f74-dd4e0c3bd2ba",
   "metadata": {},
   "outputs": [
    {
     "data": {
      "text/plain": [
       "{'neg': 0.018, 'neu': 0.874, 'pos': 0.107, 'compound': 0.8932}"
      ]
     },
     "execution_count": 63,
     "metadata": {},
     "output_type": "execute_result"
    }
   ],
   "source": [
    "#4 stars\n",
    "review12 = 'Niban has been one of my goto spots for both dine in and takeout for a long time. I love that they always have their daily specials. You can call ahead to ask what the specials are as they are usually busy and it will take a while if you order togo at the restaurant. Normally I like dining in because I feel that they give you more in the combo bentos with the little salmon and bean sprout side dishes that they do not include in takeout. The quality of food has stayed the same for 5+ years now. I enjoy this type of no fuss japanese food and will continue to support this business!'\n",
    "sia.polarity_scores(review12)"
   ]
  },
  {
   "cell_type": "markdown",
   "id": "37606556-96b5-4bd0-b940-0253e8ac4cd4",
   "metadata": {},
   "source": [
    "Review 12 had a 4 stars rating meaning the reviewer had a more positive experience. The compound score reflects a positive experience which is consistent with the star rating."
   ]
  },
  {
   "cell_type": "code",
   "execution_count": 64,
   "id": "232085c1-eec5-439c-96d2-a7af5db8ef3b",
   "metadata": {},
   "outputs": [
    {
     "data": {
      "text/plain": [
       "{'neg': 0.014, 'neu': 0.925, 'pos': 0.061, 'compound': 0.6705}"
      ]
     },
     "execution_count": 64,
     "metadata": {},
     "output_type": "execute_result"
    }
   ],
   "source": [
    "#2 stars\n",
    "review13 = 'The lady that took our order on phone was awesome . But when we got there ; this male worker told us we were not allowed to sit because we did not order while sitting down. Even though we paid for our food and everyone else was sitting outside and eating but he decided to tell us we could not sit and said that we can sit somewhere else . The other customers did not understand why my sister and I were told to leave. Never coming back, their miso soup taste like tap water'\n",
    "sia.polarity_scores(review13)"
   ]
  },
  {
   "cell_type": "markdown",
   "id": "4ea50c55-7ca4-4cce-bf0b-933332e85f98",
   "metadata": {},
   "source": [
    "Review 13 had a 2 stars rating meaning the reviewer had a more negative experience. The compound score reflects a more positive experience which differs from the star rating."
   ]
  },
  {
   "cell_type": "code",
   "execution_count": 65,
   "id": "633dad33-7962-4258-999d-99e768753bfa",
   "metadata": {},
   "outputs": [
    {
     "data": {
      "text/plain": [
       "{'neg': 0.0, 'neu': 0.567, 'pos': 0.433, 'compound': 0.9558}"
      ]
     },
     "execution_count": 65,
     "metadata": {},
     "output_type": "execute_result"
    }
   ],
   "source": [
    "#5 stars\n",
    "review14 = 'My friend showed me this place and I love coming here! Friendly staff, delicious meals and affordable prices. During this time they offer takeouts, delivery and outdoor seating :)'\n",
    "sia.polarity_scores(review14)"
   ]
  },
  {
   "cell_type": "markdown",
   "id": "6313a9d3-99a9-49aa-b336-7365281427ac",
   "metadata": {},
   "source": [
    "Review 14 had a 5 stars rating meaning the reviewer had a positive experience. The compound score reflects a positive experience which is consistent with the star rating."
   ]
  },
  {
   "cell_type": "code",
   "execution_count": 66,
   "id": "839c91a8-944b-4fb3-98de-56112589012e",
   "metadata": {},
   "outputs": [
    {
     "data": {
      "text/plain": [
       "{'neg': 0.039, 'neu': 0.858, 'pos': 0.103, 'compound': 0.5719}"
      ]
     },
     "execution_count": 66,
     "metadata": {},
     "output_type": "execute_result"
    }
   ],
   "source": [
    "#3 stars\n",
    "review15 = 'Called order in at 11:26. Door for on site diners opened just after 11:30. On site party of 4 diners had their complete bento orders 10 full minutes before our phone order was handed to me, 30 minute after ordering. When I asked about it, I was given an apathetic bs reply. Honesty is preferred.'\n",
    "sia.polarity_scores(review15)"
   ]
  },
  {
   "cell_type": "markdown",
   "id": "0d95812b-ae4b-41b7-b03d-4c5105e15bde",
   "metadata": {},
   "source": [
    "Review 15 had a 3 stars rating meaning the reviewer had a neutral experience. The compound score reflects a relatively positive experience which differs from the star rating."
   ]
  },
  {
   "cell_type": "markdown",
   "id": "04fb062e-37bc-46a5-9d0d-eccd32c79cd7",
   "metadata": {},
   "source": [
    "### Step 4: Your movie reviews\n",
    "\n",
    "- Make 5 strings that contain reviews (3 sentences each) of your favorite movie comedies\n",
    "- Make 5 strings that contain reviews (3 sentence each) of your favorite movie dramas\n",
    "- Make a Python list that contains these 10 strings\n",
    "- Replicate the analysis pipeline from \"04_news_topics.ipynb\"\n",
    "    - You don't have to open any files\n",
    "    - Instead of using \"listOfNews\", use your list of movie reviews\n",
    "    - Modify the characters in \"extrastop\" if you want to\n",
    "    - For the LDA model step, use \"num_topics = 2\"\n",
    "- Comment on the words that the model chooses to represent the 2 topics, and whether they match with your split between comedies and dramas"
   ]
  },
  {
   "cell_type": "code",
   "execution_count": 67,
   "id": "3b01c95d-254b-4c4a-b015-845c8a93ae6d",
   "metadata": {},
   "outputs": [],
   "source": [
    "comedy1 = 'The most important thing you might wanna know about this review is that I am certainly NOT in the target demographic group for this film. As a 53 year-old man, I am not the type to ever watch \"Pitch Perfect\" in the first place and did so only because my daughter insisted that it was a good film and I would enjoy it. And, fortunately, I did enjoy it quite a bit.'\n",
    "comedy2 = 'Anna Kendrick is solid in controlling the screen. What works best is the chemistry between everybody. They make this movie fun to watch.'\n",
    "comedy3 = 'First of all, there is absolutely no realistic character development. They are types, thrown together because of their quirkiness, their ethnicity, their race, or even their sexual preference. The sad thing is that doing this does not lead to anything interesting.'\n",
    "comedy4 = 'While the romance part does not work quite as well (mostly towards the end of the movie) like the rest of it, it does not really take much away from it either. It a fun light movie, that you can watch with almost everybody. And it brings a smile on your face (actually more than one)!'\n",
    "comedy5 = 'One thing this movie about college level a capella singing competition demonstrates is that the actresses involved are multi talented from the control freak played by Anna Camp to the lovely Brittany Snow and of course Anna Kendrick. But Anna Kendrick as a the lead was not quite right. She is better in a supporting role.'\n",
    "\n",
    "drama1 = 'Sadly, however, I was left feeling ambivalent about it...and I noticed that my wife and oldest daughter felt pretty much the same way. This is because although the film is more like the book, to do this they also omit a lot of things....making the story seem a bit disjoint and confusing. Overall, a decent story but even with its sticking closer to the book, I much preferred the 1990s version...which was much more charming, fun and likable.'\n",
    "drama2 = 'It is such a good story and the characters are so good that it remains timeless regardless of how many it is read and how often it is adapted. Some may not be totally enamoured with it as an adaptation, as the chronology is different and there is a lot of back and forth, but on its own terms it left me and my sisters totally satisfied.Gerwig directs with great confidence and the script sparkles, the charm and poignancy of the story and Alcotts text never lost or jarring.'\n",
    "drama3 = 'Greta Gerwig has changed it up and in the process, has given even more depth and more life to the characters. She has added to the theme of the story. She divides the movie into about half teenage years and half young adult years.'\n",
    "drama4 = 'It is beautifully shot, beautifully acted, and I understand that in order to appeal to succeeding generations, any classic must have some point that the latest kids will find telling. Nonetheless, Greta Gerwigs efforts to make this appealing to modern, Fourth Wave Feminists by having everyone from Meryl Streep as Aunt March on down go on about the subservient position of women in this era, by having Saoirse Ronan as Jo March write Little Woman, and then get into an argument with the publisher, insisting that the character remain unmarried. This destroys the ending, but of course there are more important things'\n",
    "drama5 = 'The Louisa May Alcott novel has often been filmed, so I wondered what new take could be given on it. Thankfully this turns out to be a joy, with a wonderful central performance from Saoise Ronan. Certainly a film worth watching.'"
   ]
  },
  {
   "cell_type": "code",
   "execution_count": 69,
   "id": "64de9595-ef46-483f-a20a-f1694d7fd3d3",
   "metadata": {},
   "outputs": [],
   "source": [
    "movie_reviews = [comedy1, comedy2, comedy3, comedy4, comedy5, drama1, drama2, drama3, drama4, drama5]\n",
    "#movie_reviews"
   ]
  },
  {
   "cell_type": "code",
   "execution_count": 70,
   "id": "9d79b444-e849-4de7-8567-5a568a75b92c",
   "metadata": {},
   "outputs": [],
   "source": [
    "import pandas as pd\n",
    "from pathlib import Path  \n",
    "import glob\n",
    "from nltk.tokenize import sent_tokenize, word_tokenize\n",
    "from nltk.corpus import stopwords\n",
    "from string import punctuation"
   ]
  },
  {
   "cell_type": "code",
   "execution_count": 71,
   "id": "062bd2db-53d2-4268-b984-e71f0e84c27f",
   "metadata": {},
   "outputs": [],
   "source": [
    "extrastop = ['``',\"''\",\"'re\",\"'s\",\"'re\",'``',\"''\",\"'ll\",\"--\",\"\\'\\'\",\"...\",\n",
    "             \"n\\'t\",'one','would','use',\"\\'m\",\"\\'ve\"]"
   ]
  },
  {
   "cell_type": "code",
   "execution_count": 72,
   "id": "850e0b50-db58-4bbd-8020-4c9bf53a80f6",
   "metadata": {},
   "outputs": [],
   "source": [
    "myStopWords = list(punctuation) + stopwords.words('english') + extrastop"
   ]
  },
  {
   "cell_type": "code",
   "execution_count": 73,
   "id": "c8e56095-4350-421c-8e90-41307968f839",
   "metadata": {},
   "outputs": [
    {
     "data": {
      "text/plain": [
       "['important',\n",
       " 'thing',\n",
       " 'might',\n",
       " 'wan',\n",
       " 'na',\n",
       " 'know',\n",
       " 'review',\n",
       " 'certainly',\n",
       " 'target',\n",
       " 'demographic',\n",
       " 'group',\n",
       " 'film',\n",
       " '53',\n",
       " 'year-old',\n",
       " 'man',\n",
       " 'type',\n",
       " 'ever',\n",
       " 'watch',\n",
       " 'pitch',\n",
       " 'perfect',\n",
       " 'first',\n",
       " 'place',\n",
       " 'daughter',\n",
       " 'insisted',\n",
       " 'good',\n",
       " 'film',\n",
       " 'enjoy',\n",
       " 'fortunately',\n",
       " 'enjoy',\n",
       " 'quite',\n",
       " 'bit']"
      ]
     },
     "execution_count": 73,
     "metadata": {},
     "output_type": "execute_result"
    }
   ],
   "source": [
    "[w for w in word_tokenize(movie_reviews[0].lower()) if w not in myStopWords]"
   ]
  },
  {
   "cell_type": "code",
   "execution_count": 74,
   "id": "ff7ba3c0-f474-4b95-a275-c90bd3e481f1",
   "metadata": {},
   "outputs": [],
   "source": [
    "listOfMovieReviews = []\n",
    "for i in movie_reviews:\n",
    "    listOfMovieReviews.append([w for w in word_tokenize(i.lower()) if w not in myStopWords])"
   ]
  },
  {
   "cell_type": "code",
   "execution_count": 75,
   "id": "6702e65e-b030-4890-87d1-b3a1193324fe",
   "metadata": {},
   "outputs": [],
   "source": [
    "#listOfMovieReviews[0]"
   ]
  },
  {
   "cell_type": "code",
   "execution_count": 76,
   "id": "0dcc1eb3-da75-4be0-a30d-fd352b664812",
   "metadata": {},
   "outputs": [],
   "source": [
    "from nltk.stem.porter import PorterStemmer\n",
    "#from nltk.stem import LancasterStemmer"
   ]
  },
  {
   "cell_type": "code",
   "execution_count": 77,
   "id": "d683dc53-3521-4026-bafb-489ece449a5c",
   "metadata": {},
   "outputs": [],
   "source": [
    "# Create p_stemmer of class PorterStemmer\n",
    "p_stemmer = PorterStemmer()"
   ]
  },
  {
   "cell_type": "code",
   "execution_count": 78,
   "id": "0c34d010-0482-4f86-80ba-9d580eeb85b1",
   "metadata": {},
   "outputs": [],
   "source": [
    "listOfStemmedWords = []\n",
    "for i in listOfMovieReviews:\n",
    "    listOfStemmedWords.append([p_stemmer.stem(w) for w in i])"
   ]
  },
  {
   "cell_type": "code",
   "execution_count": 79,
   "id": "a33310e0-7b92-4507-9891-ccf0970d140f",
   "metadata": {},
   "outputs": [],
   "source": [
    "#listOfStemmedWords[0]"
   ]
  },
  {
   "cell_type": "code",
   "execution_count": 80,
   "id": "7eaf58f6-a5f7-4cca-a98c-65eb9293ad21",
   "metadata": {},
   "outputs": [
    {
     "name": "stdout",
     "output_type": "stream",
     "text": [
      "Requirement already satisfied: gensim in /opt/conda/lib/python3.9/site-packages (4.1.2)\n",
      "Requirement already satisfied: smart-open>=1.8.1 in /opt/conda/lib/python3.9/site-packages (from gensim) (5.2.1)\n",
      "Requirement already satisfied: scipy>=0.18.1 in /opt/conda/lib/python3.9/site-packages (from gensim) (1.7.1)\n",
      "Requirement already satisfied: numpy>=1.17.0 in /opt/conda/lib/python3.9/site-packages (from gensim) (1.20.3)\n"
     ]
    }
   ],
   "source": [
    "!pip install gensim"
   ]
  },
  {
   "cell_type": "code",
   "execution_count": 81,
   "id": "b016b4b6-1e66-4957-be2e-5e607d33b2e8",
   "metadata": {},
   "outputs": [],
   "source": [
    "from gensim import corpora, models\n",
    "import gensim"
   ]
  },
  {
   "cell_type": "code",
   "execution_count": 82,
   "id": "6b4d01eb-129a-4528-a6bf-56f420547ca2",
   "metadata": {},
   "outputs": [],
   "source": [
    "dictionary = corpora.Dictionary(listOfStemmedWords)"
   ]
  },
  {
   "cell_type": "code",
   "execution_count": 83,
   "id": "4fad1b0c-f56c-402d-979f-4ca51a6265fe",
   "metadata": {},
   "outputs": [],
   "source": [
    "#print(dictionary.token2id)"
   ]
  },
  {
   "cell_type": "code",
   "execution_count": 84,
   "id": "a78502a4-6908-478b-9e41-12f082f6a59f",
   "metadata": {},
   "outputs": [],
   "source": [
    "corpus = [dictionary.doc2bow(text) for text in listOfStemmedWords]"
   ]
  },
  {
   "cell_type": "code",
   "execution_count": 85,
   "id": "5d4ec322-61ab-4384-be39-095603f8d63b",
   "metadata": {},
   "outputs": [],
   "source": [
    "ldamodel = gensim.models.ldamodel.LdaModel(corpus, \n",
    "                                           num_topics=2, \n",
    "                                           id2word = dictionary, \n",
    "                                           passes=20)"
   ]
  },
  {
   "cell_type": "code",
   "execution_count": 86,
   "id": "400c50fb-9304-4229-b6e3-74371214f00a",
   "metadata": {},
   "outputs": [
    {
     "name": "stdout",
     "output_type": "stream",
     "text": [
      "(0, '0.020*\"movi\" + 0.017*\"anna\" + 0.017*\"much\" + 0.013*\"watch\" + 0.013*\"film\" + 0.013*\"stori\" + 0.013*\"fun\" + 0.013*\"kendrick\" + 0.009*\"even\" + 0.009*\"quit\" + 0.009*\"book\" + 0.009*\"like\" + 0.009*\"take\" + 0.009*\"wonder\" + 0.009*\"work\" + 0.009*\"control\" + 0.009*\"everybodi\" + 0.009*\"given\" + 0.009*\"half\" + 0.009*\"year\"')\n",
      "(1, '0.014*\"charact\" + 0.014*\"thing\" + 0.014*\"good\" + 0.010*\"march\" + 0.010*\"beauti\" + 0.010*\"stori\" + 0.010*\"appeal\" + 0.010*\"remain\" + 0.010*\"adapt\" + 0.010*\"import\" + 0.010*\"insist\" + 0.010*\"total\" + 0.010*\"first\" + 0.010*\"type\" + 0.010*\"enjoy\" + 0.010*\"film\" + 0.006*\"greta\" + 0.006*\"gerwig\" + 0.006*\"ronan\" + 0.006*\"alcott\"')\n"
     ]
    }
   ],
   "source": [
    "for i in ldamodel.print_topics(num_topics=2, num_words=20):\n",
    "    print(i)"
   ]
  },
  {
   "cell_type": "markdown",
   "id": "70e9410a-fcdf-45cf-8e80-0132c299834b",
   "metadata": {},
   "source": [
    "For the first topic, we don't see many words that would be specifically associated with a comedy over a drama film besides maybe the word \"fun\". Many words like \"anna\", \"kendrick\", \"quit\", and \"year\" which are more specific to the plot of the movie itself rather than the genre since the film stars Anna Kendrick and is about a struggling college acapella group.\n",
    "\n",
    "For the second topic, we also don't see many words that would be specifically associated with the comedy or drama genre. Again, we see words that are associated with the film itself like \"greta\", \"gerwig\", and \"alcott\" which represents Greta Gerwig as the film's director and Alcott as in the author of the original album.\n",
    "\n",
    "Both films that I chose are film adaptations of novels so we see words like \"stori\", \"adapt\", \"movi\", \"film\", and \"book\". However, these words are common in both topics due to the plot of the films themselves rather than being related to the genres.\n",
    "\n",
    "The words the model chose to represent the 2 topics don't particularly match with the split between comedies and dramas. This might be because many reviews discuss the plot of the movies, the actors and producers involved, and their general emotions. So words like \"like\", \"good\", and \"enjoy\" are vague and would not provide a distinction between the two genres as they can be used to describe either comedies or dramas. "
   ]
  }
 ],
 "metadata": {
  "kernelspec": {
   "display_name": "Python 3 (ipykernel)",
   "language": "python",
   "name": "python3"
  },
  "language_info": {
   "codemirror_mode": {
    "name": "ipython",
    "version": 3
   },
   "file_extension": ".py",
   "mimetype": "text/x-python",
   "name": "python",
   "nbconvert_exporter": "python",
   "pygments_lexer": "ipython3",
   "version": "3.9.6"
  }
 },
 "nbformat": 4,
 "nbformat_minor": 5
}
