{
 "cells": [
  {
   "cell_type": "markdown",
   "id": "f73729a6-c254-459f-b056-f5804b3b6a38",
   "metadata": {},
   "source": [
    "# Assignment 8"
   ]
  },
  {
   "cell_type": "markdown",
   "id": "6539cd72-fc94-4ec4-b56d-c7e4df2581f2",
   "metadata": {},
   "source": [
    "## Network Analysis"
   ]
  },
  {
   "cell_type": "markdown",
   "id": "13ef1c97-fe8c-4b0f-92f0-6133c5af88c3",
   "metadata": {},
   "source": [
    "### Step 2: Take the Shakespeare play you've previously been analyzing and construct a network visualization\n",
    "\n",
    "- If you've been analyzing Macbeth, choose another play -- I will ask you to re-do the assignment if you use the same example from the lecture notebooks\n",
    "- You are welcome to use any or all of NetworkX, Bokeh, or Dash Cytoscape\n",
    "- You are also free to determine the information from the play that you use for nodes and edges\n",
    "- You must clarify (in markdown cells) what information is contained in the graph and how you are measuring it\n",
    "- Also include a description (via markdown cells) of the network's density and the \"most important\" nodes\n",
    "    - You can choose what \"most important\" means, but use a quantitative metric and include this metric's value(s) in your description\n",
    "- Tailor the graph's aesthetics to enhance the visualization"
   ]
  },
  {
   "cell_type": "code",
   "execution_count": 1,
   "id": "91202dc9-a0f8-456a-a681-a67f1252ab60",
   "metadata": {},
   "outputs": [],
   "source": [
    "import requests\n",
    "import networkx as nx\n",
    "import matplotlib.pyplot as plt"
   ]
  },
  {
   "cell_type": "code",
   "execution_count": 2,
   "id": "8da76b0c-db7c-4351-9b00-01b5936d988d",
   "metadata": {},
   "outputs": [
    {
     "data": {
      "text/plain": [
       "<Response [200]>"
      ]
     },
     "execution_count": 2,
     "metadata": {},
     "output_type": "execute_result"
    }
   ],
   "source": [
    "response = requests.get('https://www.gutenberg.org/ebooks/1531.txt.utf-8')\n",
    "response"
   ]
  },
  {
   "cell_type": "code",
   "execution_count": 3,
   "id": "8a4183b3-57b3-4f68-ad73-3a150c258c06",
   "metadata": {
    "tags": []
   },
   "outputs": [],
   "source": [
    "othello = response.text"
   ]
  },
  {
   "cell_type": "code",
   "execution_count": 4,
   "id": "282d037e-8b39-41fa-9dfb-ec38f68a3612",
   "metadata": {},
   "outputs": [],
   "source": [
    "characters = [\n",
    "        'DUKE OF VENICE','BRABANTIO','GRATIANO','LODOVICO',\n",
    "        'OTHELLO','CASSIO','IAGO','MONTANO',\n",
    "        'RODERIGO','CLOWN','DESDEMONA','EMILIA','BIANCA'\n",
    "]"
   ]
  },
  {
   "cell_type": "code",
   "execution_count": 5,
   "id": "4b438caa-25e9-4b63-9d07-1b44bb5c16de",
   "metadata": {},
   "outputs": [
    {
     "data": {
      "text/plain": [
       "5"
      ]
     },
     "execution_count": 5,
     "metadata": {},
     "output_type": "execute_result"
    }
   ],
   "source": [
    "#the number of acts in Othello\n",
    "othello_acts = othello.split('ACT')[6:11]\n",
    "len(othello_acts)"
   ]
  },
  {
   "cell_type": "code",
   "execution_count": 6,
   "id": "bcf347ec-5934-475e-9e27-9ef25225a057",
   "metadata": {},
   "outputs": [],
   "source": [
    "charnum = {}\n",
    "\n",
    "connections = {}\n",
    "for i in range(len(characters)-1):\n",
    "    for j in range(i+1,len(characters)):\n",
    "        connections[(characters[i],characters[j])] = 0\n",
    "\n",
    "for k in characters:\n",
    "    charnum[k] = 0\n",
    "\n",
    "for i in othello_acts:\n",
    "    for j in i.split('SCENE')[1:]:\n",
    "        scenechars = []\n",
    "        for k in characters:\n",
    "            if j.find(k) != -1:\n",
    "                scenechars.append(k)\n",
    "                charnum[k] += 1\n",
    "        for a in range(len(scenechars)-1):\n",
    "            for b in range(a+1,len(scenechars)):\n",
    "                connections[(scenechars[a],scenechars[b])] += 1"
   ]
  },
  {
   "cell_type": "code",
   "execution_count": 7,
   "id": "99aaa386-218a-4358-a909-d3850118bf5c",
   "metadata": {},
   "outputs": [
    {
     "data": {
      "text/plain": [
       "{'DUKE OF VENICE': 0,\n",
       " 'BRABANTIO': 3,\n",
       " 'GRATIANO': 2,\n",
       " 'LODOVICO': 4,\n",
       " 'OTHELLO': 12,\n",
       " 'CASSIO': 9,\n",
       " 'IAGO': 13,\n",
       " 'MONTANO': 3,\n",
       " 'RODERIGO': 7,\n",
       " 'CLOWN': 2,\n",
       " 'DESDEMONA': 9,\n",
       " 'EMILIA': 8,\n",
       " 'BIANCA': 3}"
      ]
     },
     "execution_count": 7,
     "metadata": {},
     "output_type": "execute_result"
    }
   ],
   "source": [
    "charnum"
   ]
  },
  {
   "cell_type": "code",
   "execution_count": 8,
   "id": "6dcf74b0-1539-4644-b623-921c02775ddb",
   "metadata": {
    "tags": []
   },
   "outputs": [
    {
     "data": {
      "text/plain": [
       "{('DUKE OF VENICE', 'BRABANTIO'): 0,\n",
       " ('DUKE OF VENICE', 'GRATIANO'): 0,\n",
       " ('DUKE OF VENICE', 'LODOVICO'): 0,\n",
       " ('DUKE OF VENICE', 'OTHELLO'): 0,\n",
       " ('DUKE OF VENICE', 'CASSIO'): 0,\n",
       " ('DUKE OF VENICE', 'IAGO'): 0,\n",
       " ('DUKE OF VENICE', 'MONTANO'): 0,\n",
       " ('DUKE OF VENICE', 'RODERIGO'): 0,\n",
       " ('DUKE OF VENICE', 'CLOWN'): 0,\n",
       " ('DUKE OF VENICE', 'DESDEMONA'): 0,\n",
       " ('DUKE OF VENICE', 'EMILIA'): 0,\n",
       " ('DUKE OF VENICE', 'BIANCA'): 0,\n",
       " ('BRABANTIO', 'GRATIANO'): 0,\n",
       " ('BRABANTIO', 'LODOVICO'): 0,\n",
       " ('BRABANTIO', 'OTHELLO'): 2,\n",
       " ('BRABANTIO', 'CASSIO'): 1,\n",
       " ('BRABANTIO', 'IAGO'): 3,\n",
       " ('BRABANTIO', 'MONTANO'): 0,\n",
       " ('BRABANTIO', 'RODERIGO'): 3,\n",
       " ('BRABANTIO', 'CLOWN'): 0,\n",
       " ('BRABANTIO', 'DESDEMONA'): 1,\n",
       " ('BRABANTIO', 'EMILIA'): 0,\n",
       " ('BRABANTIO', 'BIANCA'): 0,\n",
       " ('GRATIANO', 'LODOVICO'): 2,\n",
       " ('GRATIANO', 'OTHELLO'): 2,\n",
       " ('GRATIANO', 'CASSIO'): 2,\n",
       " ('GRATIANO', 'IAGO'): 2,\n",
       " ('GRATIANO', 'MONTANO'): 1,\n",
       " ('GRATIANO', 'RODERIGO'): 1,\n",
       " ('GRATIANO', 'CLOWN'): 0,\n",
       " ('GRATIANO', 'DESDEMONA'): 1,\n",
       " ('GRATIANO', 'EMILIA'): 2,\n",
       " ('GRATIANO', 'BIANCA'): 1,\n",
       " ('LODOVICO', 'OTHELLO'): 4,\n",
       " ('LODOVICO', 'CASSIO'): 3,\n",
       " ('LODOVICO', 'IAGO'): 3,\n",
       " ('LODOVICO', 'MONTANO'): 1,\n",
       " ('LODOVICO', 'RODERIGO'): 1,\n",
       " ('LODOVICO', 'CLOWN'): 0,\n",
       " ('LODOVICO', 'DESDEMONA'): 3,\n",
       " ('LODOVICO', 'EMILIA'): 3,\n",
       " ('LODOVICO', 'BIANCA'): 2,\n",
       " ('OTHELLO', 'CASSIO'): 8,\n",
       " ('OTHELLO', 'IAGO'): 11,\n",
       " ('OTHELLO', 'MONTANO'): 3,\n",
       " ('OTHELLO', 'RODERIGO'): 6,\n",
       " ('OTHELLO', 'CLOWN'): 1,\n",
       " ('OTHELLO', 'DESDEMONA'): 9,\n",
       " ('OTHELLO', 'EMILIA'): 7,\n",
       " ('OTHELLO', 'BIANCA'): 3,\n",
       " ('CASSIO', 'IAGO'): 9,\n",
       " ('CASSIO', 'MONTANO'): 3,\n",
       " ('CASSIO', 'RODERIGO'): 4,\n",
       " ('CASSIO', 'CLOWN'): 2,\n",
       " ('CASSIO', 'DESDEMONA'): 6,\n",
       " ('CASSIO', 'EMILIA'): 6,\n",
       " ('CASSIO', 'BIANCA'): 3,\n",
       " ('IAGO', 'MONTANO'): 3,\n",
       " ('IAGO', 'RODERIGO'): 7,\n",
       " ('IAGO', 'CLOWN'): 2,\n",
       " ('IAGO', 'DESDEMONA'): 8,\n",
       " ('IAGO', 'EMILIA'): 7,\n",
       " ('IAGO', 'BIANCA'): 3,\n",
       " ('MONTANO', 'RODERIGO'): 2,\n",
       " ('MONTANO', 'CLOWN'): 0,\n",
       " ('MONTANO', 'DESDEMONA'): 3,\n",
       " ('MONTANO', 'EMILIA'): 2,\n",
       " ('MONTANO', 'BIANCA'): 0,\n",
       " ('RODERIGO', 'CLOWN'): 0,\n",
       " ('RODERIGO', 'DESDEMONA'): 4,\n",
       " ('RODERIGO', 'EMILIA'): 3,\n",
       " ('RODERIGO', 'BIANCA'): 1,\n",
       " ('CLOWN', 'DESDEMONA'): 1,\n",
       " ('CLOWN', 'EMILIA'): 2,\n",
       " ('CLOWN', 'BIANCA'): 1,\n",
       " ('DESDEMONA', 'EMILIA'): 6,\n",
       " ('DESDEMONA', 'BIANCA'): 2,\n",
       " ('EMILIA', 'BIANCA'): 2}"
      ]
     },
     "execution_count": 8,
     "metadata": {},
     "output_type": "execute_result"
    }
   ],
   "source": [
    "connections"
   ]
  },
  {
   "cell_type": "code",
   "execution_count": 9,
   "id": "47e0601c-4b05-488c-a081-c986e359ecb4",
   "metadata": {},
   "outputs": [
    {
     "name": "stdout",
     "output_type": "stream",
     "text": [
      "DUKE OF VENICE 0\n",
      "BRABANTIO 3\n",
      "GRATIANO 2\n",
      "LODOVICO 4\n",
      "OTHELLO 12\n",
      "CASSIO 9\n",
      "IAGO 13\n",
      "MONTANO 3\n",
      "RODERIGO 7\n",
      "CLOWN 2\n",
      "DESDEMONA 9\n",
      "EMILIA 8\n",
      "BIANCA 3\n"
     ]
    }
   ],
   "source": [
    "for k,v in charnum.items():\n",
    "    print(k,v)"
   ]
  },
  {
   "cell_type": "code",
   "execution_count": 10,
   "id": "eb42b73b-ba65-4b5f-a4ae-7387bf3d69b1",
   "metadata": {},
   "outputs": [
    {
     "data": {
      "text/plain": [
       "[{'data': {'id': 'DUKE OF VENICE', 'label': 'Duke Of Venice', 'size': '0'}},\n",
       " {'data': {'id': 'BRABANTIO', 'label': 'Brabantio', 'size': '3'}},\n",
       " {'data': {'id': 'GRATIANO', 'label': 'Gratiano', 'size': '2'}},\n",
       " {'data': {'id': 'LODOVICO', 'label': 'Lodovico', 'size': '4'}},\n",
       " {'data': {'id': 'OTHELLO', 'label': 'Othello', 'size': '12'}},\n",
       " {'data': {'id': 'CASSIO', 'label': 'Cassio', 'size': '9'}},\n",
       " {'data': {'id': 'IAGO', 'label': 'Iago', 'size': '13'}},\n",
       " {'data': {'id': 'MONTANO', 'label': 'Montano', 'size': '3'}},\n",
       " {'data': {'id': 'RODERIGO', 'label': 'Roderigo', 'size': '7'}},\n",
       " {'data': {'id': 'CLOWN', 'label': 'Clown', 'size': '2'}},\n",
       " {'data': {'id': 'DESDEMONA', 'label': 'Desdemona', 'size': '9'}},\n",
       " {'data': {'id': 'EMILIA', 'label': 'Emilia', 'size': '8'}},\n",
       " {'data': {'id': 'BIANCA', 'label': 'Bianca', 'size': '3'}},\n",
       " {'data': {'source': 'BRABANTIO', 'target': 'OTHELLO', 'weight': 2}},\n",
       " {'data': {'source': 'BRABANTIO', 'target': 'CASSIO', 'weight': 1}},\n",
       " {'data': {'source': 'BRABANTIO', 'target': 'IAGO', 'weight': 3}},\n",
       " {'data': {'source': 'BRABANTIO', 'target': 'RODERIGO', 'weight': 3}},\n",
       " {'data': {'source': 'BRABANTIO', 'target': 'DESDEMONA', 'weight': 1}},\n",
       " {'data': {'source': 'GRATIANO', 'target': 'LODOVICO', 'weight': 2}},\n",
       " {'data': {'source': 'GRATIANO', 'target': 'OTHELLO', 'weight': 2}},\n",
       " {'data': {'source': 'GRATIANO', 'target': 'CASSIO', 'weight': 2}},\n",
       " {'data': {'source': 'GRATIANO', 'target': 'IAGO', 'weight': 2}},\n",
       " {'data': {'source': 'GRATIANO', 'target': 'MONTANO', 'weight': 1}},\n",
       " {'data': {'source': 'GRATIANO', 'target': 'RODERIGO', 'weight': 1}},\n",
       " {'data': {'source': 'GRATIANO', 'target': 'DESDEMONA', 'weight': 1}},\n",
       " {'data': {'source': 'GRATIANO', 'target': 'EMILIA', 'weight': 2}},\n",
       " {'data': {'source': 'GRATIANO', 'target': 'BIANCA', 'weight': 1}},\n",
       " {'data': {'source': 'LODOVICO', 'target': 'OTHELLO', 'weight': 4}},\n",
       " {'data': {'source': 'LODOVICO', 'target': 'CASSIO', 'weight': 3}},\n",
       " {'data': {'source': 'LODOVICO', 'target': 'IAGO', 'weight': 3}},\n",
       " {'data': {'source': 'LODOVICO', 'target': 'MONTANO', 'weight': 1}},\n",
       " {'data': {'source': 'LODOVICO', 'target': 'RODERIGO', 'weight': 1}},\n",
       " {'data': {'source': 'LODOVICO', 'target': 'DESDEMONA', 'weight': 3}},\n",
       " {'data': {'source': 'LODOVICO', 'target': 'EMILIA', 'weight': 3}},\n",
       " {'data': {'source': 'LODOVICO', 'target': 'BIANCA', 'weight': 2}},\n",
       " {'data': {'source': 'OTHELLO', 'target': 'CASSIO', 'weight': 8}},\n",
       " {'data': {'source': 'OTHELLO', 'target': 'IAGO', 'weight': 11}},\n",
       " {'data': {'source': 'OTHELLO', 'target': 'MONTANO', 'weight': 3}},\n",
       " {'data': {'source': 'OTHELLO', 'target': 'RODERIGO', 'weight': 6}},\n",
       " {'data': {'source': 'OTHELLO', 'target': 'CLOWN', 'weight': 1}},\n",
       " {'data': {'source': 'OTHELLO', 'target': 'DESDEMONA', 'weight': 9}},\n",
       " {'data': {'source': 'OTHELLO', 'target': 'EMILIA', 'weight': 7}},\n",
       " {'data': {'source': 'OTHELLO', 'target': 'BIANCA', 'weight': 3}},\n",
       " {'data': {'source': 'CASSIO', 'target': 'IAGO', 'weight': 9}},\n",
       " {'data': {'source': 'CASSIO', 'target': 'MONTANO', 'weight': 3}},\n",
       " {'data': {'source': 'CASSIO', 'target': 'RODERIGO', 'weight': 4}},\n",
       " {'data': {'source': 'CASSIO', 'target': 'CLOWN', 'weight': 2}},\n",
       " {'data': {'source': 'CASSIO', 'target': 'DESDEMONA', 'weight': 6}},\n",
       " {'data': {'source': 'CASSIO', 'target': 'EMILIA', 'weight': 6}},\n",
       " {'data': {'source': 'CASSIO', 'target': 'BIANCA', 'weight': 3}},\n",
       " {'data': {'source': 'IAGO', 'target': 'MONTANO', 'weight': 3}},\n",
       " {'data': {'source': 'IAGO', 'target': 'RODERIGO', 'weight': 7}},\n",
       " {'data': {'source': 'IAGO', 'target': 'CLOWN', 'weight': 2}},\n",
       " {'data': {'source': 'IAGO', 'target': 'DESDEMONA', 'weight': 8}},\n",
       " {'data': {'source': 'IAGO', 'target': 'EMILIA', 'weight': 7}},\n",
       " {'data': {'source': 'IAGO', 'target': 'BIANCA', 'weight': 3}},\n",
       " {'data': {'source': 'MONTANO', 'target': 'RODERIGO', 'weight': 2}},\n",
       " {'data': {'source': 'MONTANO', 'target': 'DESDEMONA', 'weight': 3}},\n",
       " {'data': {'source': 'MONTANO', 'target': 'EMILIA', 'weight': 2}},\n",
       " {'data': {'source': 'RODERIGO', 'target': 'DESDEMONA', 'weight': 4}},\n",
       " {'data': {'source': 'RODERIGO', 'target': 'EMILIA', 'weight': 3}},\n",
       " {'data': {'source': 'RODERIGO', 'target': 'BIANCA', 'weight': 1}},\n",
       " {'data': {'source': 'CLOWN', 'target': 'DESDEMONA', 'weight': 1}},\n",
       " {'data': {'source': 'CLOWN', 'target': 'EMILIA', 'weight': 2}},\n",
       " {'data': {'source': 'CLOWN', 'target': 'BIANCA', 'weight': 1}},\n",
       " {'data': {'source': 'DESDEMONA', 'target': 'EMILIA', 'weight': 6}},\n",
       " {'data': {'source': 'DESDEMONA', 'target': 'BIANCA', 'weight': 2}},\n",
       " {'data': {'source': 'EMILIA', 'target': 'BIANCA', 'weight': 2}}]"
      ]
     },
     "execution_count": 10,
     "metadata": {},
     "output_type": "execute_result"
    }
   ],
   "source": [
    "graphitems = []\n",
    "\n",
    "for k,v in charnum.items():\n",
    "    dashnode = {'data': {'id': k,\n",
    "                         'label': k.title(),\n",
    "                         'size': str(v)}}\n",
    "    graphitems.append(dashnode)\n",
    "\n",
    "for k,v in connections.items():\n",
    "    if v != 0:\n",
    "        dashedge = {'data': {'source': k[0],\n",
    "                             'target': k[1],\n",
    "                             'weight': v}}\n",
    "        graphitems.append(dashedge)\n",
    "    \n",
    "graphitems"
   ]
  },
  {
   "cell_type": "code",
   "execution_count": 11,
   "id": "3e84ccb1-cb03-4a5c-8dcb-d24a02e66cdb",
   "metadata": {},
   "outputs": [],
   "source": [
    "import dash\n",
    "import dash_cytoscape as cyto\n",
    "from dash import html, dcc\n",
    "from dash.dependencies import Input, Output\n",
    "from jupyter_dash import JupyterDash\n",
    "from jupyter_dash.comms import _send_jupyter_config_comm_request"
   ]
  },
  {
   "cell_type": "code",
   "execution_count": 12,
   "id": "e1bd1ab0-5803-4c16-be9a-d5a27293ac82",
   "metadata": {},
   "outputs": [],
   "source": [
    "_send_jupyter_config_comm_request()"
   ]
  },
  {
   "cell_type": "code",
   "execution_count": 14,
   "id": "2dd7bb5f-5f7b-487c-bd68-a798f839386c",
   "metadata": {},
   "outputs": [],
   "source": [
    "JupyterDash.infer_jupyter_proxy_config()"
   ]
  },
  {
   "cell_type": "code",
   "execution_count": 15,
   "id": "47d55073-c839-4121-91c0-5e2f644850de",
   "metadata": {},
   "outputs": [
    {
     "name": "stdout",
     "output_type": "stream",
     "text": [
      "Dash app running on https://jupyter.idre.ucla.edu/user/crystal.huynh39@gmail.com/proxy/8050/\n"
     ]
    }
   ],
   "source": [
    "app = JupyterDash(__name__)\n",
    "\n",
    "app.layout = html.Div([\n",
    "    cyto.Cytoscape(\n",
    "        layout={'name': 'cose'},\n",
    "        elements=graphitems,\n",
    "        style={'width': '100%', 'height': '750px'},\n",
    "        stylesheet=[\n",
    "            {\n",
    "                'selector': 'node',\n",
    "                'style': {\n",
    "                    'content':'data(label)',\n",
    "                    'text-halign':'center',\n",
    "                    'text-valign':'center',\n",
    "                    'width': 'data(size)',\n",
    "                    'height': 'data(size)',\n",
    "                    'font-size':4,\n",
    "                    'color': 'blue',\n",
    "                    'text-outline-color': 'white',\n",
    "                    'text-outline-width': 0.2,\n",
    "                    'shape':'circle'\n",
    "                }\n",
    "            },\n",
    "            {\n",
    "                'selector':'edge',\n",
    "                'style': {\n",
    "                    'width':'data(weight)',\n",
    "                    'line-color': 'black',\n",
    "                  }\n",
    "            },\n",
    "        ]\n",
    "    )\n",
    "])\n",
    "\n",
    "app.run_server(debug=True)"
   ]
  },
  {
   "cell_type": "markdown",
   "id": "cdd9145c-da6f-421a-b651-60e7c2e83221",
   "metadata": {},
   "source": [
    "This visualization shows us that Iago has the most connections since his circle is the largest and his edges are relatively thicker than many other characters. This tells us that he is the most relevant character, which does make sense as in Assignment 6, his name was not only the most frequently mentioned out of all the characters, but it was also the word that appeared the most in the whole text. Othello seems to have the next most connections, then Cassio and Desdemona. The story of Othello revolves around these four characters the most, so this finding makes sense compared to the connections of other characters."
   ]
  },
  {
   "cell_type": "code",
   "execution_count": 16,
   "id": "a91f7a5b-eca5-4e89-bc23-56b6e74d59e5",
   "metadata": {},
   "outputs": [
    {
     "data": {
      "text/plain": [
       "[{'data': {'id': 'DUKE OF VENICE', 'label': 'Duke Of Venice', 'size': '0'}},\n",
       " {'data': {'id': 'BRABANTIO', 'label': 'Brabantio', 'size': '3'}},\n",
       " {'data': {'id': 'GRATIANO', 'label': 'Gratiano', 'size': '2'}},\n",
       " {'data': {'id': 'LODOVICO', 'label': 'Lodovico', 'size': '4'}},\n",
       " {'data': {'id': 'OTHELLO', 'label': 'Othello', 'size': '12'}},\n",
       " {'data': {'id': 'CASSIO', 'label': 'Cassio', 'size': '9'}},\n",
       " {'data': {'id': 'IAGO', 'label': 'Iago', 'size': '13'}},\n",
       " {'data': {'id': 'MONTANO', 'label': 'Montano', 'size': '3'}},\n",
       " {'data': {'id': 'RODERIGO', 'label': 'Roderigo', 'size': '7'}},\n",
       " {'data': {'id': 'CLOWN', 'label': 'Clown', 'size': '2'}},\n",
       " {'data': {'id': 'DESDEMONA', 'label': 'Desdemona', 'size': '9'}},\n",
       " {'data': {'id': 'EMILIA', 'label': 'Emilia', 'size': '8'}},\n",
       " {'data': {'id': 'BIANCA', 'label': 'Bianca', 'size': '3'}},\n",
       " {'data': {'source': 'BRABANTIO', 'target': 'OTHELLO', 'weight': 2}},\n",
       " {'data': {'source': 'BRABANTIO', 'target': 'CASSIO', 'weight': 1}},\n",
       " {'data': {'source': 'BRABANTIO', 'target': 'IAGO', 'weight': 3}},\n",
       " {'data': {'source': 'BRABANTIO', 'target': 'RODERIGO', 'weight': 3}},\n",
       " {'data': {'source': 'BRABANTIO', 'target': 'DESDEMONA', 'weight': 1}},\n",
       " {'data': {'source': 'GRATIANO', 'target': 'LODOVICO', 'weight': 2}},\n",
       " {'data': {'source': 'GRATIANO', 'target': 'OTHELLO', 'weight': 2}},\n",
       " {'data': {'source': 'GRATIANO', 'target': 'CASSIO', 'weight': 2}},\n",
       " {'data': {'source': 'GRATIANO', 'target': 'IAGO', 'weight': 2}},\n",
       " {'data': {'source': 'GRATIANO', 'target': 'MONTANO', 'weight': 1}},\n",
       " {'data': {'source': 'GRATIANO', 'target': 'RODERIGO', 'weight': 1}},\n",
       " {'data': {'source': 'GRATIANO', 'target': 'DESDEMONA', 'weight': 1}},\n",
       " {'data': {'source': 'GRATIANO', 'target': 'EMILIA', 'weight': 2}},\n",
       " {'data': {'source': 'GRATIANO', 'target': 'BIANCA', 'weight': 1}},\n",
       " {'data': {'source': 'LODOVICO', 'target': 'OTHELLO', 'weight': 4}},\n",
       " {'data': {'source': 'LODOVICO', 'target': 'CASSIO', 'weight': 3}},\n",
       " {'data': {'source': 'LODOVICO', 'target': 'IAGO', 'weight': 3}},\n",
       " {'data': {'source': 'LODOVICO', 'target': 'MONTANO', 'weight': 1}},\n",
       " {'data': {'source': 'LODOVICO', 'target': 'RODERIGO', 'weight': 1}},\n",
       " {'data': {'source': 'LODOVICO', 'target': 'DESDEMONA', 'weight': 3}},\n",
       " {'data': {'source': 'LODOVICO', 'target': 'EMILIA', 'weight': 3}},\n",
       " {'data': {'source': 'LODOVICO', 'target': 'BIANCA', 'weight': 2}},\n",
       " {'data': {'source': 'OTHELLO', 'target': 'CASSIO', 'weight': 8}},\n",
       " {'data': {'source': 'OTHELLO', 'target': 'IAGO', 'weight': 11}},\n",
       " {'data': {'source': 'OTHELLO', 'target': 'MONTANO', 'weight': 3}},\n",
       " {'data': {'source': 'OTHELLO', 'target': 'RODERIGO', 'weight': 6}},\n",
       " {'data': {'source': 'OTHELLO', 'target': 'CLOWN', 'weight': 1}},\n",
       " {'data': {'source': 'OTHELLO', 'target': 'DESDEMONA', 'weight': 9}},\n",
       " {'data': {'source': 'OTHELLO', 'target': 'EMILIA', 'weight': 7}},\n",
       " {'data': {'source': 'OTHELLO', 'target': 'BIANCA', 'weight': 3}},\n",
       " {'data': {'source': 'CASSIO', 'target': 'IAGO', 'weight': 9}},\n",
       " {'data': {'source': 'CASSIO', 'target': 'MONTANO', 'weight': 3}},\n",
       " {'data': {'source': 'CASSIO', 'target': 'RODERIGO', 'weight': 4}},\n",
       " {'data': {'source': 'CASSIO', 'target': 'CLOWN', 'weight': 2}},\n",
       " {'data': {'source': 'CASSIO', 'target': 'DESDEMONA', 'weight': 6}},\n",
       " {'data': {'source': 'CASSIO', 'target': 'EMILIA', 'weight': 6}},\n",
       " {'data': {'source': 'CASSIO', 'target': 'BIANCA', 'weight': 3}},\n",
       " {'data': {'source': 'IAGO', 'target': 'MONTANO', 'weight': 3}},\n",
       " {'data': {'source': 'IAGO', 'target': 'RODERIGO', 'weight': 7}},\n",
       " {'data': {'source': 'IAGO', 'target': 'CLOWN', 'weight': 2}},\n",
       " {'data': {'source': 'IAGO', 'target': 'DESDEMONA', 'weight': 8}},\n",
       " {'data': {'source': 'IAGO', 'target': 'EMILIA', 'weight': 7}},\n",
       " {'data': {'source': 'IAGO', 'target': 'BIANCA', 'weight': 3}},\n",
       " {'data': {'source': 'MONTANO', 'target': 'RODERIGO', 'weight': 2}},\n",
       " {'data': {'source': 'MONTANO', 'target': 'DESDEMONA', 'weight': 3}},\n",
       " {'data': {'source': 'MONTANO', 'target': 'EMILIA', 'weight': 2}},\n",
       " {'data': {'source': 'RODERIGO', 'target': 'DESDEMONA', 'weight': 4}},\n",
       " {'data': {'source': 'RODERIGO', 'target': 'EMILIA', 'weight': 3}},\n",
       " {'data': {'source': 'RODERIGO', 'target': 'BIANCA', 'weight': 1}},\n",
       " {'data': {'source': 'CLOWN', 'target': 'DESDEMONA', 'weight': 1}},\n",
       " {'data': {'source': 'CLOWN', 'target': 'EMILIA', 'weight': 2}},\n",
       " {'data': {'source': 'CLOWN', 'target': 'BIANCA', 'weight': 1}},\n",
       " {'data': {'source': 'DESDEMONA', 'target': 'EMILIA', 'weight': 6}},\n",
       " {'data': {'source': 'DESDEMONA', 'target': 'BIANCA', 'weight': 2}},\n",
       " {'data': {'source': 'EMILIA', 'target': 'BIANCA', 'weight': 2}}]"
      ]
     },
     "execution_count": 16,
     "metadata": {},
     "output_type": "execute_result"
    }
   ],
   "source": [
    "graphitems"
   ]
  },
  {
   "cell_type": "code",
   "execution_count": 17,
   "id": "9bdaa3f3-d3ad-4c25-8ce8-c6b37696773d",
   "metadata": {},
   "outputs": [
    {
     "data": {
      "text/plain": [
       "[('BRABANTIO', 'OTHELLO'),\n",
       " ('BRABANTIO', 'CASSIO'),\n",
       " ('BRABANTIO', 'IAGO'),\n",
       " ('BRABANTIO', 'RODERIGO'),\n",
       " ('BRABANTIO', 'DESDEMONA'),\n",
       " ('GRATIANO', 'LODOVICO'),\n",
       " ('GRATIANO', 'OTHELLO'),\n",
       " ('GRATIANO', 'CASSIO'),\n",
       " ('GRATIANO', 'IAGO'),\n",
       " ('GRATIANO', 'MONTANO'),\n",
       " ('GRATIANO', 'RODERIGO'),\n",
       " ('GRATIANO', 'DESDEMONA'),\n",
       " ('GRATIANO', 'EMILIA'),\n",
       " ('GRATIANO', 'BIANCA'),\n",
       " ('LODOVICO', 'OTHELLO'),\n",
       " ('LODOVICO', 'CASSIO'),\n",
       " ('LODOVICO', 'IAGO'),\n",
       " ('LODOVICO', 'MONTANO'),\n",
       " ('LODOVICO', 'RODERIGO'),\n",
       " ('LODOVICO', 'DESDEMONA'),\n",
       " ('LODOVICO', 'EMILIA'),\n",
       " ('LODOVICO', 'BIANCA'),\n",
       " ('OTHELLO', 'CASSIO'),\n",
       " ('OTHELLO', 'IAGO'),\n",
       " ('OTHELLO', 'MONTANO'),\n",
       " ('OTHELLO', 'RODERIGO'),\n",
       " ('OTHELLO', 'CLOWN'),\n",
       " ('OTHELLO', 'DESDEMONA'),\n",
       " ('OTHELLO', 'EMILIA'),\n",
       " ('OTHELLO', 'BIANCA'),\n",
       " ('CASSIO', 'IAGO'),\n",
       " ('CASSIO', 'MONTANO'),\n",
       " ('CASSIO', 'RODERIGO'),\n",
       " ('CASSIO', 'CLOWN'),\n",
       " ('CASSIO', 'DESDEMONA'),\n",
       " ('CASSIO', 'EMILIA'),\n",
       " ('CASSIO', 'BIANCA'),\n",
       " ('IAGO', 'MONTANO'),\n",
       " ('IAGO', 'RODERIGO'),\n",
       " ('IAGO', 'CLOWN'),\n",
       " ('IAGO', 'DESDEMONA'),\n",
       " ('IAGO', 'EMILIA'),\n",
       " ('IAGO', 'BIANCA'),\n",
       " ('MONTANO', 'RODERIGO'),\n",
       " ('MONTANO', 'DESDEMONA'),\n",
       " ('MONTANO', 'EMILIA'),\n",
       " ('RODERIGO', 'DESDEMONA'),\n",
       " ('RODERIGO', 'EMILIA'),\n",
       " ('RODERIGO', 'BIANCA'),\n",
       " ('CLOWN', 'DESDEMONA'),\n",
       " ('CLOWN', 'EMILIA'),\n",
       " ('CLOWN', 'BIANCA'),\n",
       " ('DESDEMONA', 'EMILIA'),\n",
       " ('DESDEMONA', 'BIANCA'),\n",
       " ('EMILIA', 'BIANCA')]"
      ]
     },
     "execution_count": 17,
     "metadata": {},
     "output_type": "execute_result"
    }
   ],
   "source": [
    "nxgraphitems = []\n",
    "\n",
    "# for k,v in charnum.items():\n",
    "#     dashnode = k\n",
    "#     graphitems.append(dashnode)\n",
    "\n",
    "for k,v in connections.items():\n",
    "    if v != 0:\n",
    "        dashedge = (k[0],k[1])\n",
    "        nxgraphitems.append(dashedge)\n",
    "    \n",
    "nxgraphitems"
   ]
  },
  {
   "cell_type": "code",
   "execution_count": 18,
   "id": "93ecb8dd-db4a-4f1a-85eb-20e6dc49d06a",
   "metadata": {},
   "outputs": [],
   "source": [
    "G = nx.Graph()"
   ]
  },
  {
   "cell_type": "code",
   "execution_count": 19,
   "id": "939d3af9-fa94-4d16-932f-4f84a650ae4e",
   "metadata": {},
   "outputs": [],
   "source": [
    "G.add_edges_from(nxgraphitems)"
   ]
  },
  {
   "cell_type": "code",
   "execution_count": 20,
   "id": "f0bec7df-7290-4082-a52a-7d620b438684",
   "metadata": {},
   "outputs": [
    {
     "data": {
      "text/plain": [
       "NodeView(('BRABANTIO', 'OTHELLO', 'CASSIO', 'IAGO', 'RODERIGO', 'DESDEMONA', 'GRATIANO', 'LODOVICO', 'MONTANO', 'EMILIA', 'BIANCA', 'CLOWN'))"
      ]
     },
     "execution_count": 20,
     "metadata": {},
     "output_type": "execute_result"
    }
   ],
   "source": [
    "G.nodes"
   ]
  },
  {
   "cell_type": "code",
   "execution_count": 21,
   "id": "d072ae3d-a1a8-4f3a-a368-425507d9d814",
   "metadata": {},
   "outputs": [
    {
     "data": {
      "text/plain": [
       "{'BRABANTIO': 0.4545454545454546,\n",
       " 'OTHELLO': 1.0,\n",
       " 'CASSIO': 1.0,\n",
       " 'IAGO': 1.0,\n",
       " 'RODERIGO': 0.9090909090909092,\n",
       " 'DESDEMONA': 1.0,\n",
       " 'GRATIANO': 0.8181818181818182,\n",
       " 'LODOVICO': 0.8181818181818182,\n",
       " 'MONTANO': 0.7272727272727273,\n",
       " 'EMILIA': 0.9090909090909092,\n",
       " 'BIANCA': 0.8181818181818182,\n",
       " 'CLOWN': 0.5454545454545454}"
      ]
     },
     "execution_count": 21,
     "metadata": {},
     "output_type": "execute_result"
    }
   ],
   "source": [
    "nx.degree_centrality(G)"
   ]
  },
  {
   "cell_type": "code",
   "execution_count": 22,
   "id": "81b926dd-3197-4d84-804a-8c2730093113",
   "metadata": {},
   "outputs": [
    {
     "name": "stdout",
     "output_type": "stream",
     "text": [
      "Othello        : 1.000\n",
      "Cassio         : 1.000\n",
      "Iago           : 1.000\n",
      "Desdemona      : 1.000\n",
      "Roderigo       : 0.909\n",
      "Emilia         : 0.909\n",
      "Gratiano       : 0.818\n",
      "Lodovico       : 0.818\n",
      "Bianca         : 0.818\n",
      "Montano        : 0.727\n",
      "Clown          : 0.545\n",
      "Brabantio      : 0.455\n"
     ]
    }
   ],
   "source": [
    "dc = nx.degree_centrality(G)\n",
    "for i in sorted(dc, key=dc.get, reverse=True):\n",
    "    print('{:15s}: {:.3f}'.format(i.title(), dc[i]))"
   ]
  },
  {
   "cell_type": "markdown",
   "id": "24950651-2c6d-4b94-8bfa-5b165e4d2f90",
   "metadata": {},
   "source": [
    "The degree centrality tells us that the most important nodes are Othello, Cassio, Iago, and Desdamonda. They all have the highest degree centrality at 1.0 which makes sense because again, the majority of the story revolves around the dynamic of these four characters the most. The next most important node is Rodrigo and Emilia o with a degree centrality of 0.909, which also makes sense because Rodrigo is in love with Desdemona, works with Iago, and tries to kill Cassio, thus placing him in the midst of their dynamic within the story. Emilia is Iago's wide and Desdemona's attendant, which also places her within their dynamic for much of the story."
   ]
  },
  {
   "cell_type": "markdown",
   "id": "ebfb23bb-851e-4502-a8b6-b284b0040153",
   "metadata": {
    "tags": []
   },
   "source": [
    "### Step 3: When finished:\n",
    "\n",
    "- Save a screenshot of your final network visualization (and/or save an html output file for Bokeh)\n",
    "- Add both the saved screenshot/output-file and your notebook to your \"dh140\" repository on the JupyterHub\n",
    "- Push the changes to your repository on GitHub\n",
    "- Submit the link to your GitHub repository"
   ]
  },
  {
   "cell_type": "markdown",
   "id": "21ade073-bf8c-4f10-b156-d11cb7dd6f23",
   "metadata": {},
   "source": [
    "Screenshot is saved under the name \"Assignment08NetworkViz\""
   ]
  }
 ],
 "metadata": {
  "kernelspec": {
   "display_name": "Python 3 (ipykernel)",
   "language": "python",
   "name": "python3"
  },
  "language_info": {
   "codemirror_mode": {
    "name": "ipython",
    "version": 3
   },
   "file_extension": ".py",
   "mimetype": "text/x-python",
   "name": "python",
   "nbconvert_exporter": "python",
   "pygments_lexer": "ipython3",
   "version": "3.9.6"
  }
 },
 "nbformat": 4,
 "nbformat_minor": 5
}
