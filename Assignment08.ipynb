{
 "cells": [
  {
   "cell_type": "markdown",
   "id": "ccf9842c-768d-4ee2-acf3-4d24257031b7",
   "metadata": {},
   "source": [
    "# Assignment 8"
   ]
  },
  {
   "cell_type": "markdown",
   "id": "0f0c36cd-87b4-4abb-8ad1-3b9fa90de083",
   "metadata": {},
   "source": [
    "## Network Analysis"
   ]
  },
  {
   "cell_type": "markdown",
   "id": "59570bd4-ebde-4297-a8dc-458687e22d3c",
   "metadata": {},
   "source": [
    "### Step 2: Take the Shakespeare play you've previously been analyzing and construct a network visualization\n",
    "\n",
    "- If you've been analyzing Macbeth, choose another play -- I will ask you to re-do the assignment if you use the same example from the lecture notebooks\n",
    "- You are welcome to use any or all of NetworkX, Bokeh, or Dash Cytoscape\n",
    "- You are also free to determine the information from the play that you use for nodes and edges\n",
    "- You must clarify (in markdown cells) what information is contained in the graph and how you are measuring it\n",
    "- Also include a description (via markdown cells) of the network's density and the \"most important\" nodes\n",
    "    - You can choose what \"most important\" means, but use a quantitative metric and include this metric's value(s) in your description\n",
    "- Tailor the graph's aesthetics to enhance the visualization"
   ]
  },
  {
   "cell_type": "code",
   "execution_count": 1,
   "id": "cbdca9a9-417e-431b-b552-18cd7d06a948",
   "metadata": {},
   "outputs": [],
   "source": [
    "import requests\n",
    "import networkx as nx\n",
    "import matplotlib.pyplot as plt"
   ]
  },
  {
   "cell_type": "code",
   "execution_count": 2,
   "id": "0d373da8-c7b0-47d1-83b8-6ef9a763ea46",
   "metadata": {},
   "outputs": [
    {
     "data": {
      "text/plain": [
       "<Response [200]>"
      ]
     },
     "execution_count": 2,
     "metadata": {},
     "output_type": "execute_result"
    }
   ],
   "source": [
    "response = requests.get('https://www.gutenberg.org/ebooks/1531.txt.utf-8')\n",
    "response"
   ]
  },
  {
   "cell_type": "code",
   "execution_count": 3,
   "id": "ff494413-18fd-4c44-86de-f2a97303ff1c",
   "metadata": {
    "tags": []
   },
   "outputs": [],
   "source": [
    "othello = response.text"
   ]
  },
  {
   "cell_type": "code",
   "execution_count": 4,
   "id": "609826e6-1760-45bd-a194-9b9da7af5f28",
   "metadata": {},
   "outputs": [],
   "source": [
    "characters = [\n",
    "        'DUKE OF VENICE','BRABANTIO','GRATIANO','LODOVICO',\n",
    "        'OTHELLO','CASSIO','IAGO','MONTANO',\n",
    "        'RODERIGO','CLOWN','DESDEMONA','EMILIA','BIANCA'\n",
    "]"
   ]
  },
  {
   "cell_type": "code",
   "execution_count": 5,
   "id": "4092fc1f-3cac-443f-b9e9-bc7aeced84bb",
   "metadata": {},
   "outputs": [
    {
     "data": {
      "text/plain": [
       "5"
      ]
     },
     "execution_count": 5,
     "metadata": {},
     "output_type": "execute_result"
    }
   ],
   "source": [
    "#the number of acts in Othello\n",
    "othello_acts = othello.split('ACT')[6:11]\n",
    "len(othello_acts)"
   ]
  },
  {
   "cell_type": "code",
   "execution_count": 6,
   "id": "e648a122-6680-42e3-890a-c2e066be00f5",
   "metadata": {},
   "outputs": [],
   "source": [
    "charnum = {}\n",
    "\n",
    "connections = {}\n",
    "for i in range(len(characters)-1):\n",
    "    for j in range(i+1,len(characters)):\n",
    "        connections[(characters[i],characters[j])] = 0\n",
    "\n",
    "for k in characters:\n",
    "    charnum[k] = 0\n",
    "\n",
    "for i in othello_acts:\n",
    "    for j in i.split('SCENE')[1:]:\n",
    "        scenechars = []\n",
    "        for k in characters:\n",
    "            if j.find(k) != -1:\n",
    "                scenechars.append(k)\n",
    "                charnum[k] += 1\n",
    "        for a in range(len(scenechars)-1):\n",
    "            for b in range(a+1,len(scenechars)):\n",
    "                connections[(scenechars[a],scenechars[b])] += 1"
   ]
  },
  {
   "cell_type": "code",
   "execution_count": 7,
   "id": "8d831180-48c0-4bc4-8bce-b6f42cf2ab7d",
   "metadata": {},
   "outputs": [
    {
     "data": {
      "text/plain": [
       "{'DUKE OF VENICE': 0,\n",
       " 'BRABANTIO': 3,\n",
       " 'GRATIANO': 2,\n",
       " 'LODOVICO': 4,\n",
       " 'OTHELLO': 12,\n",
       " 'CASSIO': 9,\n",
       " 'IAGO': 13,\n",
       " 'MONTANO': 3,\n",
       " 'RODERIGO': 7,\n",
       " 'CLOWN': 2,\n",
       " 'DESDEMONA': 9,\n",
       " 'EMILIA': 8,\n",
       " 'BIANCA': 3}"
      ]
     },
     "execution_count": 7,
     "metadata": {},
     "output_type": "execute_result"
    }
   ],
   "source": [
    "charnum"
   ]
  },
  {
   "cell_type": "code",
   "execution_count": 8,
   "id": "66ab0a83-fefa-4419-9033-83e2b2e7b2bc",
   "metadata": {
    "tags": []
   },
   "outputs": [
    {
     "data": {
      "text/plain": [
       "{('DUKE OF VENICE', 'BRABANTIO'): 0,\n",
       " ('DUKE OF VENICE', 'GRATIANO'): 0,\n",
       " ('DUKE OF VENICE', 'LODOVICO'): 0,\n",
       " ('DUKE OF VENICE', 'OTHELLO'): 0,\n",
       " ('DUKE OF VENICE', 'CASSIO'): 0,\n",
       " ('DUKE OF VENICE', 'IAGO'): 0,\n",
       " ('DUKE OF VENICE', 'MONTANO'): 0,\n",
       " ('DUKE OF VENICE', 'RODERIGO'): 0,\n",
       " ('DUKE OF VENICE', 'CLOWN'): 0,\n",
       " ('DUKE OF VENICE', 'DESDEMONA'): 0,\n",
       " ('DUKE OF VENICE', 'EMILIA'): 0,\n",
       " ('DUKE OF VENICE', 'BIANCA'): 0,\n",
       " ('BRABANTIO', 'GRATIANO'): 0,\n",
       " ('BRABANTIO', 'LODOVICO'): 0,\n",
       " ('BRABANTIO', 'OTHELLO'): 2,\n",
       " ('BRABANTIO', 'CASSIO'): 1,\n",
       " ('BRABANTIO', 'IAGO'): 3,\n",
       " ('BRABANTIO', 'MONTANO'): 0,\n",
       " ('BRABANTIO', 'RODERIGO'): 3,\n",
       " ('BRABANTIO', 'CLOWN'): 0,\n",
       " ('BRABANTIO', 'DESDEMONA'): 1,\n",
       " ('BRABANTIO', 'EMILIA'): 0,\n",
       " ('BRABANTIO', 'BIANCA'): 0,\n",
       " ('GRATIANO', 'LODOVICO'): 2,\n",
       " ('GRATIANO', 'OTHELLO'): 2,\n",
       " ('GRATIANO', 'CASSIO'): 2,\n",
       " ('GRATIANO', 'IAGO'): 2,\n",
       " ('GRATIANO', 'MONTANO'): 1,\n",
       " ('GRATIANO', 'RODERIGO'): 1,\n",
       " ('GRATIANO', 'CLOWN'): 0,\n",
       " ('GRATIANO', 'DESDEMONA'): 1,\n",
       " ('GRATIANO', 'EMILIA'): 2,\n",
       " ('GRATIANO', 'BIANCA'): 1,\n",
       " ('LODOVICO', 'OTHELLO'): 4,\n",
       " ('LODOVICO', 'CASSIO'): 3,\n",
       " ('LODOVICO', 'IAGO'): 3,\n",
       " ('LODOVICO', 'MONTANO'): 1,\n",
       " ('LODOVICO', 'RODERIGO'): 1,\n",
       " ('LODOVICO', 'CLOWN'): 0,\n",
       " ('LODOVICO', 'DESDEMONA'): 3,\n",
       " ('LODOVICO', 'EMILIA'): 3,\n",
       " ('LODOVICO', 'BIANCA'): 2,\n",
       " ('OTHELLO', 'CASSIO'): 8,\n",
       " ('OTHELLO', 'IAGO'): 11,\n",
       " ('OTHELLO', 'MONTANO'): 3,\n",
       " ('OTHELLO', 'RODERIGO'): 6,\n",
       " ('OTHELLO', 'CLOWN'): 1,\n",
       " ('OTHELLO', 'DESDEMONA'): 9,\n",
       " ('OTHELLO', 'EMILIA'): 7,\n",
       " ('OTHELLO', 'BIANCA'): 3,\n",
       " ('CASSIO', 'IAGO'): 9,\n",
       " ('CASSIO', 'MONTANO'): 3,\n",
       " ('CASSIO', 'RODERIGO'): 4,\n",
       " ('CASSIO', 'CLOWN'): 2,\n",
       " ('CASSIO', 'DESDEMONA'): 6,\n",
       " ('CASSIO', 'EMILIA'): 6,\n",
       " ('CASSIO', 'BIANCA'): 3,\n",
       " ('IAGO', 'MONTANO'): 3,\n",
       " ('IAGO', 'RODERIGO'): 7,\n",
       " ('IAGO', 'CLOWN'): 2,\n",
       " ('IAGO', 'DESDEMONA'): 8,\n",
       " ('IAGO', 'EMILIA'): 7,\n",
       " ('IAGO', 'BIANCA'): 3,\n",
       " ('MONTANO', 'RODERIGO'): 2,\n",
       " ('MONTANO', 'CLOWN'): 0,\n",
       " ('MONTANO', 'DESDEMONA'): 3,\n",
       " ('MONTANO', 'EMILIA'): 2,\n",
       " ('MONTANO', 'BIANCA'): 0,\n",
       " ('RODERIGO', 'CLOWN'): 0,\n",
       " ('RODERIGO', 'DESDEMONA'): 4,\n",
       " ('RODERIGO', 'EMILIA'): 3,\n",
       " ('RODERIGO', 'BIANCA'): 1,\n",
       " ('CLOWN', 'DESDEMONA'): 1,\n",
       " ('CLOWN', 'EMILIA'): 2,\n",
       " ('CLOWN', 'BIANCA'): 1,\n",
       " ('DESDEMONA', 'EMILIA'): 6,\n",
       " ('DESDEMONA', 'BIANCA'): 2,\n",
       " ('EMILIA', 'BIANCA'): 2}"
      ]
     },
     "execution_count": 8,
     "metadata": {},
     "output_type": "execute_result"
    }
   ],
   "source": [
    "connections"
   ]
  },
  {
   "cell_type": "code",
   "execution_count": 9,
   "id": "50149cbe-a742-4d5f-983e-6de803b388b9",
   "metadata": {},
   "outputs": [
    {
     "name": "stdout",
     "output_type": "stream",
     "text": [
      "DUKE OF VENICE 0\n",
      "BRABANTIO 3\n",
      "GRATIANO 2\n",
      "LODOVICO 4\n",
      "OTHELLO 12\n",
      "CASSIO 9\n",
      "IAGO 13\n",
      "MONTANO 3\n",
      "RODERIGO 7\n",
      "CLOWN 2\n",
      "DESDEMONA 9\n",
      "EMILIA 8\n",
      "BIANCA 3\n"
     ]
    }
   ],
   "source": [
    "for k,v in charnum.items():\n",
    "    print(k,v)"
   ]
  },
  {
   "cell_type": "code",
   "execution_count": 10,
   "id": "8c699f17-8d2c-4369-bdd1-6565c2dee12e",
   "metadata": {},
   "outputs": [
    {
     "data": {
      "text/plain": [
       "[{'data': {'id': 'DUKE OF VENICE', 'label': 'Duke Of Venice', 'size': '0'}},\n",
       " {'data': {'id': 'BRABANTIO', 'label': 'Brabantio', 'size': '3'}},\n",
       " {'data': {'id': 'GRATIANO', 'label': 'Gratiano', 'size': '2'}},\n",
       " {'data': {'id': 'LODOVICO', 'label': 'Lodovico', 'size': '4'}},\n",
       " {'data': {'id': 'OTHELLO', 'label': 'Othello', 'size': '12'}},\n",
       " {'data': {'id': 'CASSIO', 'label': 'Cassio', 'size': '9'}},\n",
       " {'data': {'id': 'IAGO', 'label': 'Iago', 'size': '13'}},\n",
       " {'data': {'id': 'MONTANO', 'label': 'Montano', 'size': '3'}},\n",
       " {'data': {'id': 'RODERIGO', 'label': 'Roderigo', 'size': '7'}},\n",
       " {'data': {'id': 'CLOWN', 'label': 'Clown', 'size': '2'}},\n",
       " {'data': {'id': 'DESDEMONA', 'label': 'Desdemona', 'size': '9'}},\n",
       " {'data': {'id': 'EMILIA', 'label': 'Emilia', 'size': '8'}},\n",
       " {'data': {'id': 'BIANCA', 'label': 'Bianca', 'size': '3'}},\n",
       " {'data': {'source': 'BRABANTIO', 'target': 'OTHELLO', 'weight': 2}},\n",
       " {'data': {'source': 'BRABANTIO', 'target': 'CASSIO', 'weight': 1}},\n",
       " {'data': {'source': 'BRABANTIO', 'target': 'IAGO', 'weight': 3}},\n",
       " {'data': {'source': 'BRABANTIO', 'target': 'RODERIGO', 'weight': 3}},\n",
       " {'data': {'source': 'BRABANTIO', 'target': 'DESDEMONA', 'weight': 1}},\n",
       " {'data': {'source': 'GRATIANO', 'target': 'LODOVICO', 'weight': 2}},\n",
       " {'data': {'source': 'GRATIANO', 'target': 'OTHELLO', 'weight': 2}},\n",
       " {'data': {'source': 'GRATIANO', 'target': 'CASSIO', 'weight': 2}},\n",
       " {'data': {'source': 'GRATIANO', 'target': 'IAGO', 'weight': 2}},\n",
       " {'data': {'source': 'GRATIANO', 'target': 'MONTANO', 'weight': 1}},\n",
       " {'data': {'source': 'GRATIANO', 'target': 'RODERIGO', 'weight': 1}},\n",
       " {'data': {'source': 'GRATIANO', 'target': 'DESDEMONA', 'weight': 1}},\n",
       " {'data': {'source': 'GRATIANO', 'target': 'EMILIA', 'weight': 2}},\n",
       " {'data': {'source': 'GRATIANO', 'target': 'BIANCA', 'weight': 1}},\n",
       " {'data': {'source': 'LODOVICO', 'target': 'OTHELLO', 'weight': 4}},\n",
       " {'data': {'source': 'LODOVICO', 'target': 'CASSIO', 'weight': 3}},\n",
       " {'data': {'source': 'LODOVICO', 'target': 'IAGO', 'weight': 3}},\n",
       " {'data': {'source': 'LODOVICO', 'target': 'MONTANO', 'weight': 1}},\n",
       " {'data': {'source': 'LODOVICO', 'target': 'RODERIGO', 'weight': 1}},\n",
       " {'data': {'source': 'LODOVICO', 'target': 'DESDEMONA', 'weight': 3}},\n",
       " {'data': {'source': 'LODOVICO', 'target': 'EMILIA', 'weight': 3}},\n",
       " {'data': {'source': 'LODOVICO', 'target': 'BIANCA', 'weight': 2}},\n",
       " {'data': {'source': 'OTHELLO', 'target': 'CASSIO', 'weight': 8}},\n",
       " {'data': {'source': 'OTHELLO', 'target': 'IAGO', 'weight': 11}},\n",
       " {'data': {'source': 'OTHELLO', 'target': 'MONTANO', 'weight': 3}},\n",
       " {'data': {'source': 'OTHELLO', 'target': 'RODERIGO', 'weight': 6}},\n",
       " {'data': {'source': 'OTHELLO', 'target': 'CLOWN', 'weight': 1}},\n",
       " {'data': {'source': 'OTHELLO', 'target': 'DESDEMONA', 'weight': 9}},\n",
       " {'data': {'source': 'OTHELLO', 'target': 'EMILIA', 'weight': 7}},\n",
       " {'data': {'source': 'OTHELLO', 'target': 'BIANCA', 'weight': 3}},\n",
       " {'data': {'source': 'CASSIO', 'target': 'IAGO', 'weight': 9}},\n",
       " {'data': {'source': 'CASSIO', 'target': 'MONTANO', 'weight': 3}},\n",
       " {'data': {'source': 'CASSIO', 'target': 'RODERIGO', 'weight': 4}},\n",
       " {'data': {'source': 'CASSIO', 'target': 'CLOWN', 'weight': 2}},\n",
       " {'data': {'source': 'CASSIO', 'target': 'DESDEMONA', 'weight': 6}},\n",
       " {'data': {'source': 'CASSIO', 'target': 'EMILIA', 'weight': 6}},\n",
       " {'data': {'source': 'CASSIO', 'target': 'BIANCA', 'weight': 3}},\n",
       " {'data': {'source': 'IAGO', 'target': 'MONTANO', 'weight': 3}},\n",
       " {'data': {'source': 'IAGO', 'target': 'RODERIGO', 'weight': 7}},\n",
       " {'data': {'source': 'IAGO', 'target': 'CLOWN', 'weight': 2}},\n",
       " {'data': {'source': 'IAGO', 'target': 'DESDEMONA', 'weight': 8}},\n",
       " {'data': {'source': 'IAGO', 'target': 'EMILIA', 'weight': 7}},\n",
       " {'data': {'source': 'IAGO', 'target': 'BIANCA', 'weight': 3}},\n",
       " {'data': {'source': 'MONTANO', 'target': 'RODERIGO', 'weight': 2}},\n",
       " {'data': {'source': 'MONTANO', 'target': 'DESDEMONA', 'weight': 3}},\n",
       " {'data': {'source': 'MONTANO', 'target': 'EMILIA', 'weight': 2}},\n",
       " {'data': {'source': 'RODERIGO', 'target': 'DESDEMONA', 'weight': 4}},\n",
       " {'data': {'source': 'RODERIGO', 'target': 'EMILIA', 'weight': 3}},\n",
       " {'data': {'source': 'RODERIGO', 'target': 'BIANCA', 'weight': 1}},\n",
       " {'data': {'source': 'CLOWN', 'target': 'DESDEMONA', 'weight': 1}},\n",
       " {'data': {'source': 'CLOWN', 'target': 'EMILIA', 'weight': 2}},\n",
       " {'data': {'source': 'CLOWN', 'target': 'BIANCA', 'weight': 1}},\n",
       " {'data': {'source': 'DESDEMONA', 'target': 'EMILIA', 'weight': 6}},\n",
       " {'data': {'source': 'DESDEMONA', 'target': 'BIANCA', 'weight': 2}},\n",
       " {'data': {'source': 'EMILIA', 'target': 'BIANCA', 'weight': 2}}]"
      ]
     },
     "execution_count": 10,
     "metadata": {},
     "output_type": "execute_result"
    }
   ],
   "source": [
    "graphitems = []\n",
    "\n",
    "for k,v in charnum.items():\n",
    "    dashnode = {'data': {'id': k,\n",
    "                         'label': k.title(),\n",
    "                         'size': str(v)}}\n",
    "    graphitems.append(dashnode)\n",
    "\n",
    "for k,v in connections.items():\n",
    "    if v != 0:\n",
    "        dashedge = {'data': {'source': k[0],\n",
    "                             'target': k[1],\n",
    "                             'weight': v}}\n",
    "        graphitems.append(dashedge)\n",
    "    \n",
    "graphitems"
   ]
  },
  {
   "cell_type": "code",
   "execution_count": 11,
   "id": "cd8246ac-3d2d-4d7b-9a65-bba5d149eca9",
   "metadata": {},
   "outputs": [],
   "source": [
    "import dash\n",
    "import dash_cytoscape as cyto\n",
    "from dash import html, dcc\n",
    "from dash.dependencies import Input, Output\n",
    "from jupyter_dash import JupyterDash\n",
    "from jupyter_dash.comms import _send_jupyter_config_comm_request"
   ]
  },
  {
   "cell_type": "code",
   "execution_count": 12,
   "id": "950fc6c6-b5fd-4894-8150-6eb62a62a283",
   "metadata": {},
   "outputs": [],
   "source": [
    "_send_jupyter_config_comm_request()"
   ]
  },
  {
   "cell_type": "code",
   "execution_count": 14,
   "id": "8eacf6ce-c09a-4adc-b8e2-c0cf0929dc90",
   "metadata": {},
   "outputs": [],
   "source": [
    "JupyterDash.infer_jupyter_proxy_config()"
   ]
  },
  {
   "cell_type": "code",
   "execution_count": 15,
   "id": "663c93c7-c089-488e-a0e9-5d2e70551539",
   "metadata": {},
   "outputs": [
    {
     "name": "stdout",
     "output_type": "stream",
     "text": [
      "Dash app running on https://jupyter.idre.ucla.edu/user/crystal.huynh39@gmail.com/proxy/8050/\n"
     ]
    }
   ],
   "source": [
    "app = JupyterDash(__name__)\n",
    "\n",
    "app.layout = html.Div([\n",
    "    cyto.Cytoscape(\n",
    "        layout={'name': 'cose'},\n",
    "        elements=graphitems,\n",
    "        style={'width': '100%', 'height': '750px'},\n",
    "        stylesheet=[\n",
    "            {\n",
    "                'selector': 'node',\n",
    "                'style': {\n",
    "                    'content':'data(label)',\n",
    "                    'text-halign':'center',\n",
    "                    'text-valign':'center',\n",
    "                    'width': 'data(size)',\n",
    "                    'height': 'data(size)',\n",
    "                    'font-size':4,\n",
    "                    'color': 'blue',\n",
    "                    'text-outline-color': 'white',\n",
    "                    'text-outline-width': 0.2,\n",
    "                    'shape':'circle'\n",
    "                }\n",
    "            },\n",
    "            {\n",
    "                'selector':'edge',\n",
    "                'style': {\n",
    "                    'width':'data(weight)',\n",
    "                    'line-color': 'black',\n",
    "                  }\n",
    "            },\n",
    "        ]\n",
    "    )\n",
    "])\n",
    "\n",
    "app.run_server(debug=True)"
   ]
  },
  {
   "cell_type": "markdown",
   "id": "e1e818bd-c87e-47aa-911f-454198338f0d",
   "metadata": {},
   "source": [
    "This visualization shows us that Iago has the most connections since his circle is the largest and his edges are relatively thicker than many other characters. This tells us that he is the most relevant character, which does make sense as in Assignment 6, his name was not only the most frequently mentioned out of all the characters, but it was also the word that appeared the most in the whole text. Othello seems to have the next most connections, then Cassio and Desdemona. The story of Othello revolves around these four characters the most, so this finding makes sense compared to the connections of other characters."
   ]
  },
  {
   "cell_type": "code",
   "execution_count": 16,
   "id": "830860d0-bdcf-4167-812d-03db3655905a",
   "metadata": {},
   "outputs": [
    {
     "data": {
      "text/plain": [
       "[{'data': {'id': 'DUKE OF VENICE', 'label': 'Duke Of Venice', 'size': '0'}},\n",
       " {'data': {'id': 'BRABANTIO', 'label': 'Brabantio', 'size': '3'}},\n",
       " {'data': {'id': 'GRATIANO', 'label': 'Gratiano', 'size': '2'}},\n",
       " {'data': {'id': 'LODOVICO', 'label': 'Lodovico', 'size': '4'}},\n",
       " {'data': {'id': 'OTHELLO', 'label': 'Othello', 'size': '12'}},\n",
       " {'data': {'id': 'CASSIO', 'label': 'Cassio', 'size': '9'}},\n",
       " {'data': {'id': 'IAGO', 'label': 'Iago', 'size': '13'}},\n",
       " {'data': {'id': 'MONTANO', 'label': 'Montano', 'size': '3'}},\n",
       " {'data': {'id': 'RODERIGO', 'label': 'Roderigo', 'size': '7'}},\n",
       " {'data': {'id': 'CLOWN', 'label': 'Clown', 'size': '2'}},\n",
       " {'data': {'id': 'DESDEMONA', 'label': 'Desdemona', 'size': '9'}},\n",
       " {'data': {'id': 'EMILIA', 'label': 'Emilia', 'size': '8'}},\n",
       " {'data': {'id': 'BIANCA', 'label': 'Bianca', 'size': '3'}},\n",
       " {'data': {'source': 'BRABANTIO', 'target': 'OTHELLO', 'weight': 2}},\n",
       " {'data': {'source': 'BRABANTIO', 'target': 'CASSIO', 'weight': 1}},\n",
       " {'data': {'source': 'BRABANTIO', 'target': 'IAGO', 'weight': 3}},\n",
       " {'data': {'source': 'BRABANTIO', 'target': 'RODERIGO', 'weight': 3}},\n",
       " {'data': {'source': 'BRABANTIO', 'target': 'DESDEMONA', 'weight': 1}},\n",
       " {'data': {'source': 'GRATIANO', 'target': 'LODOVICO', 'weight': 2}},\n",
       " {'data': {'source': 'GRATIANO', 'target': 'OTHELLO', 'weight': 2}},\n",
       " {'data': {'source': 'GRATIANO', 'target': 'CASSIO', 'weight': 2}},\n",
       " {'data': {'source': 'GRATIANO', 'target': 'IAGO', 'weight': 2}},\n",
       " {'data': {'source': 'GRATIANO', 'target': 'MONTANO', 'weight': 1}},\n",
       " {'data': {'source': 'GRATIANO', 'target': 'RODERIGO', 'weight': 1}},\n",
       " {'data': {'source': 'GRATIANO', 'target': 'DESDEMONA', 'weight': 1}},\n",
       " {'data': {'source': 'GRATIANO', 'target': 'EMILIA', 'weight': 2}},\n",
       " {'data': {'source': 'GRATIANO', 'target': 'BIANCA', 'weight': 1}},\n",
       " {'data': {'source': 'LODOVICO', 'target': 'OTHELLO', 'weight': 4}},\n",
       " {'data': {'source': 'LODOVICO', 'target': 'CASSIO', 'weight': 3}},\n",
       " {'data': {'source': 'LODOVICO', 'target': 'IAGO', 'weight': 3}},\n",
       " {'data': {'source': 'LODOVICO', 'target': 'MONTANO', 'weight': 1}},\n",
       " {'data': {'source': 'LODOVICO', 'target': 'RODERIGO', 'weight': 1}},\n",
       " {'data': {'source': 'LODOVICO', 'target': 'DESDEMONA', 'weight': 3}},\n",
       " {'data': {'source': 'LODOVICO', 'target': 'EMILIA', 'weight': 3}},\n",
       " {'data': {'source': 'LODOVICO', 'target': 'BIANCA', 'weight': 2}},\n",
       " {'data': {'source': 'OTHELLO', 'target': 'CASSIO', 'weight': 8}},\n",
       " {'data': {'source': 'OTHELLO', 'target': 'IAGO', 'weight': 11}},\n",
       " {'data': {'source': 'OTHELLO', 'target': 'MONTANO', 'weight': 3}},\n",
       " {'data': {'source': 'OTHELLO', 'target': 'RODERIGO', 'weight': 6}},\n",
       " {'data': {'source': 'OTHELLO', 'target': 'CLOWN', 'weight': 1}},\n",
       " {'data': {'source': 'OTHELLO', 'target': 'DESDEMONA', 'weight': 9}},\n",
       " {'data': {'source': 'OTHELLO', 'target': 'EMILIA', 'weight': 7}},\n",
       " {'data': {'source': 'OTHELLO', 'target': 'BIANCA', 'weight': 3}},\n",
       " {'data': {'source': 'CASSIO', 'target': 'IAGO', 'weight': 9}},\n",
       " {'data': {'source': 'CASSIO', 'target': 'MONTANO', 'weight': 3}},\n",
       " {'data': {'source': 'CASSIO', 'target': 'RODERIGO', 'weight': 4}},\n",
       " {'data': {'source': 'CASSIO', 'target': 'CLOWN', 'weight': 2}},\n",
       " {'data': {'source': 'CASSIO', 'target': 'DESDEMONA', 'weight': 6}},\n",
       " {'data': {'source': 'CASSIO', 'target': 'EMILIA', 'weight': 6}},\n",
       " {'data': {'source': 'CASSIO', 'target': 'BIANCA', 'weight': 3}},\n",
       " {'data': {'source': 'IAGO', 'target': 'MONTANO', 'weight': 3}},\n",
       " {'data': {'source': 'IAGO', 'target': 'RODERIGO', 'weight': 7}},\n",
       " {'data': {'source': 'IAGO', 'target': 'CLOWN', 'weight': 2}},\n",
       " {'data': {'source': 'IAGO', 'target': 'DESDEMONA', 'weight': 8}},\n",
       " {'data': {'source': 'IAGO', 'target': 'EMILIA', 'weight': 7}},\n",
       " {'data': {'source': 'IAGO', 'target': 'BIANCA', 'weight': 3}},\n",
       " {'data': {'source': 'MONTANO', 'target': 'RODERIGO', 'weight': 2}},\n",
       " {'data': {'source': 'MONTANO', 'target': 'DESDEMONA', 'weight': 3}},\n",
       " {'data': {'source': 'MONTANO', 'target': 'EMILIA', 'weight': 2}},\n",
       " {'data': {'source': 'RODERIGO', 'target': 'DESDEMONA', 'weight': 4}},\n",
       " {'data': {'source': 'RODERIGO', 'target': 'EMILIA', 'weight': 3}},\n",
       " {'data': {'source': 'RODERIGO', 'target': 'BIANCA', 'weight': 1}},\n",
       " {'data': {'source': 'CLOWN', 'target': 'DESDEMONA', 'weight': 1}},\n",
       " {'data': {'source': 'CLOWN', 'target': 'EMILIA', 'weight': 2}},\n",
       " {'data': {'source': 'CLOWN', 'target': 'BIANCA', 'weight': 1}},\n",
       " {'data': {'source': 'DESDEMONA', 'target': 'EMILIA', 'weight': 6}},\n",
       " {'data': {'source': 'DESDEMONA', 'target': 'BIANCA', 'weight': 2}},\n",
       " {'data': {'source': 'EMILIA', 'target': 'BIANCA', 'weight': 2}}]"
      ]
     },
     "execution_count": 16,
     "metadata": {},
     "output_type": "execute_result"
    }
   ],
   "source": [
    "graphitems"
   ]
  },
  {
   "cell_type": "code",
   "execution_count": 17,
   "id": "e1879c75-c96a-400c-a449-6215832a0424",
   "metadata": {},
   "outputs": [
    {
     "data": {
      "text/plain": [
       "[('BRABANTIO', 'OTHELLO'),\n",
       " ('BRABANTIO', 'CASSIO'),\n",
       " ('BRABANTIO', 'IAGO'),\n",
       " ('BRABANTIO', 'RODERIGO'),\n",
       " ('BRABANTIO', 'DESDEMONA'),\n",
       " ('GRATIANO', 'LODOVICO'),\n",
       " ('GRATIANO', 'OTHELLO'),\n",
       " ('GRATIANO', 'CASSIO'),\n",
       " ('GRATIANO', 'IAGO'),\n",
       " ('GRATIANO', 'MONTANO'),\n",
       " ('GRATIANO', 'RODERIGO'),\n",
       " ('GRATIANO', 'DESDEMONA'),\n",
       " ('GRATIANO', 'EMILIA'),\n",
       " ('GRATIANO', 'BIANCA'),\n",
       " ('LODOVICO', 'OTHELLO'),\n",
       " ('LODOVICO', 'CASSIO'),\n",
       " ('LODOVICO', 'IAGO'),\n",
       " ('LODOVICO', 'MONTANO'),\n",
       " ('LODOVICO', 'RODERIGO'),\n",
       " ('LODOVICO', 'DESDEMONA'),\n",
       " ('LODOVICO', 'EMILIA'),\n",
       " ('LODOVICO', 'BIANCA'),\n",
       " ('OTHELLO', 'CASSIO'),\n",
       " ('OTHELLO', 'IAGO'),\n",
       " ('OTHELLO', 'MONTANO'),\n",
       " ('OTHELLO', 'RODERIGO'),\n",
       " ('OTHELLO', 'CLOWN'),\n",
       " ('OTHELLO', 'DESDEMONA'),\n",
       " ('OTHELLO', 'EMILIA'),\n",
       " ('OTHELLO', 'BIANCA'),\n",
       " ('CASSIO', 'IAGO'),\n",
       " ('CASSIO', 'MONTANO'),\n",
       " ('CASSIO', 'RODERIGO'),\n",
       " ('CASSIO', 'CLOWN'),\n",
       " ('CASSIO', 'DESDEMONA'),\n",
       " ('CASSIO', 'EMILIA'),\n",
       " ('CASSIO', 'BIANCA'),\n",
       " ('IAGO', 'MONTANO'),\n",
       " ('IAGO', 'RODERIGO'),\n",
       " ('IAGO', 'CLOWN'),\n",
       " ('IAGO', 'DESDEMONA'),\n",
       " ('IAGO', 'EMILIA'),\n",
       " ('IAGO', 'BIANCA'),\n",
       " ('MONTANO', 'RODERIGO'),\n",
       " ('MONTANO', 'DESDEMONA'),\n",
       " ('MONTANO', 'EMILIA'),\n",
       " ('RODERIGO', 'DESDEMONA'),\n",
       " ('RODERIGO', 'EMILIA'),\n",
       " ('RODERIGO', 'BIANCA'),\n",
       " ('CLOWN', 'DESDEMONA'),\n",
       " ('CLOWN', 'EMILIA'),\n",
       " ('CLOWN', 'BIANCA'),\n",
       " ('DESDEMONA', 'EMILIA'),\n",
       " ('DESDEMONA', 'BIANCA'),\n",
       " ('EMILIA', 'BIANCA')]"
      ]
     },
     "execution_count": 17,
     "metadata": {},
     "output_type": "execute_result"
    }
   ],
   "source": [
    "nxgraphitems = []\n",
    "\n",
    "# for k,v in charnum.items():\n",
    "#     dashnode = k\n",
    "#     graphitems.append(dashnode)\n",
    "\n",
    "for k,v in connections.items():\n",
    "    if v != 0:\n",
    "        dashedge = (k[0],k[1])\n",
    "        nxgraphitems.append(dashedge)\n",
    "    \n",
    "nxgraphitems"
   ]
  },
  {
   "cell_type": "code",
   "execution_count": 18,
   "id": "5e3851ad-6e8a-4569-988d-5801f6a0f467",
   "metadata": {},
   "outputs": [],
   "source": [
    "G = nx.Graph()"
   ]
  },
  {
   "cell_type": "code",
   "execution_count": 19,
   "id": "7c1e84f3-6607-4384-be57-4c65b88ed0ad",
   "metadata": {},
   "outputs": [],
   "source": [
    "G.add_edges_from(nxgraphitems)"
   ]
  },
  {
   "cell_type": "code",
   "execution_count": 20,
   "id": "fbb85cac-d525-4727-8d3f-69df2dfa724d",
   "metadata": {},
   "outputs": [
    {
     "data": {
      "text/plain": [
       "NodeView(('BRABANTIO', 'OTHELLO', 'CASSIO', 'IAGO', 'RODERIGO', 'DESDEMONA', 'GRATIANO', 'LODOVICO', 'MONTANO', 'EMILIA', 'BIANCA', 'CLOWN'))"
      ]
     },
     "execution_count": 20,
     "metadata": {},
     "output_type": "execute_result"
    }
   ],
   "source": [
    "G.nodes"
   ]
  },
  {
   "cell_type": "code",
   "execution_count": 21,
   "id": "085c09f8-a750-423d-909c-575b0f062c18",
   "metadata": {},
   "outputs": [
    {
     "data": {
      "text/plain": [
       "{'BRABANTIO': 0.4545454545454546,\n",
       " 'OTHELLO': 1.0,\n",
       " 'CASSIO': 1.0,\n",
       " 'IAGO': 1.0,\n",
       " 'RODERIGO': 0.9090909090909092,\n",
       " 'DESDEMONA': 1.0,\n",
       " 'GRATIANO': 0.8181818181818182,\n",
       " 'LODOVICO': 0.8181818181818182,\n",
       " 'MONTANO': 0.7272727272727273,\n",
       " 'EMILIA': 0.9090909090909092,\n",
       " 'BIANCA': 0.8181818181818182,\n",
       " 'CLOWN': 0.5454545454545454}"
      ]
     },
     "execution_count": 21,
     "metadata": {},
     "output_type": "execute_result"
    }
   ],
   "source": [
    "nx.degree_centrality(G)"
   ]
  },
  {
   "cell_type": "code",
   "execution_count": 22,
   "id": "a688069f-39a2-4a55-a2a4-23c2ac1599c1",
   "metadata": {},
   "outputs": [
    {
     "name": "stdout",
     "output_type": "stream",
     "text": [
      "Othello        : 1.000\n",
      "Cassio         : 1.000\n",
      "Iago           : 1.000\n",
      "Desdemona      : 1.000\n",
      "Roderigo       : 0.909\n",
      "Emilia         : 0.909\n",
      "Gratiano       : 0.818\n",
      "Lodovico       : 0.818\n",
      "Bianca         : 0.818\n",
      "Montano        : 0.727\n",
      "Clown          : 0.545\n",
      "Brabantio      : 0.455\n"
     ]
    }
   ],
   "source": [
    "dc = nx.degree_centrality(G)\n",
    "for i in sorted(dc, key=dc.get, reverse=True):\n",
    "    print('{:15s}: {:.3f}'.format(i.title(), dc[i]))"
   ]
  },
  {
   "cell_type": "markdown",
   "id": "bd2bad73-84d9-4805-aaf7-a54ade2a22ae",
   "metadata": {},
   "source": [
    "The degree centrality tells us that the most important nodes are Othello, Cassio, Iago, and Desdamonda. They all have the highest degree centrality at 1.0 which makes sense because again, the majority of the story revolves around the dynamic of these four characters the most. The next most important node is Rodrigo and Emilia o with a degree centrality of 0.909, which also makes sense because Rodrigo is in love with Desdemona, works with Iago, and tries to kill Cassio, thus placing him in the midst of their dynamic within the story. Emilia is Iago's wide and Desdemona's attendant, which also places her within their dynamic for much of the story."
   ]
  },
  {
   "cell_type": "markdown",
   "id": "52752893-9be8-403f-8159-0e85f350830e",
   "metadata": {
    "tags": []
   },
   "source": [
    "### Step 3: When finished:\n",
    "\n",
    "- Save a screenshot of your final network visualization (and/or save an html output file for Bokeh)\n",
    "- Add both the saved screenshot/output-file and your notebook to your \"dh140\" repository on the JupyterHub\n",
    "- Push the changes to your repository on GitHub\n",
    "- Submit the link to your GitHub repository"
   ]
  },
  {
   "cell_type": "markdown",
   "id": "e2a26e0f-05dc-487c-9211-46b321fb771f",
   "metadata": {},
   "source": [
    "Screenshot is saved under the name \"Assignment08NetworkViz\""
   ]
  }
 ],
 "metadata": {
  "kernelspec": {
   "display_name": "Python 3 (ipykernel)",
   "language": "python",
   "name": "python3"
  },
  "language_info": {
   "codemirror_mode": {
    "name": "ipython",
    "version": 3
   },
   "file_extension": ".py",
   "mimetype": "text/x-python",
   "name": "python",
   "nbconvert_exporter": "python",
   "pygments_lexer": "ipython3",
   "version": "3.9.6"
  }
 },
 "nbformat": 4,
 "nbformat_minor": 5
}
