{
 "cells": [
  {
   "cell_type": "markdown",
   "id": "da1020c5-86ff-4483-bce5-ba5864a25427",
   "metadata": {},
   "source": [
    "# Assignment 7"
   ]
  },
  {
   "cell_type": "markdown",
   "id": "b9f86a46-610a-4808-aea8-8b70a3a3e49f",
   "metadata": {},
   "source": [
    "## Stats & Modeling"
   ]
  },
  {
   "cell_type": "markdown",
   "id": "07ce019b-c943-489d-9c77-34b36412f528",
   "metadata": {},
   "source": [
    "### Step 2: Using the same Shakespeare play from your Week 6 Assignment:\n",
    "\n",
    "- Tokenize the words, remove stopwords, stem or lemmatize the words, and calculate the word frequencies\n",
    "- For the word frequencies, calculate the mean, median, mode, and trimmed mean.\n",
    "    - For the trimmed mean, you can choose what to trim, but comment on the number used for trimming.\n",
    "- Plot a histogram of the word frequency data and comment on the relative locations of the mean, median, mode, and trimmed mean\n",
    "- Calculate the standard deviation and the interquartile range (the difference of the 75% and 25% quantile)\n",
    "    - Comment as well on how they compare to each other and to the histogram plot."
   ]
  },
  {
   "cell_type": "code",
   "execution_count": 1,
   "id": "e6ad98f9-b00d-4749-97ca-2dcd3687d567",
   "metadata": {},
   "outputs": [
    {
     "name": "stderr",
     "output_type": "stream",
     "text": [
      "[nltk_data] Downloading package stopwords to /home/jovyan/nltk_data...\n",
      "[nltk_data]   Package stopwords is already up-to-date!\n"
     ]
    }
   ],
   "source": [
    "import nltk\n",
    "from nltk.tokenize import word_tokenize, sent_tokenize\n",
    "import requests\n",
    "from bs4 import BeautifulSoup\n",
    "from nltk.corpus import stopwords\n",
    "from string import punctuation\n",
    "nltk.download('stopwords')\n",
    "from nltk.collocations import *\n",
    "from nltk.probability import FreqDist\n",
    "from nltk.stem import WordNetLemmatizer\n",
    "import numpy as np\n",
    "import pandas as pd"
   ]
  },
  {
   "cell_type": "code",
   "execution_count": 2,
   "id": "0b932e47-c902-4ea9-afaa-b57f73cae3e4",
   "metadata": {},
   "outputs": [
    {
     "data": {
      "text/plain": [
       "<Response [200]>"
      ]
     },
     "execution_count": 2,
     "metadata": {},
     "output_type": "execute_result"
    }
   ],
   "source": [
    "response = requests.get('https://www.gutenberg.org/ebooks/1531.txt.utf-8')\n",
    "response"
   ]
  },
  {
   "cell_type": "code",
   "execution_count": 3,
   "id": "1b06fedc-1937-4bfc-9397-ee9d657ff7cd",
   "metadata": {},
   "outputs": [],
   "source": [
    "# Save all the html in a string variable\n",
    "html_string = response.text\n",
    "othello = html_string.lower()\n",
    "\n",
    "# Use BeautifulSoup to create a new object that will allow you to search for HTML tags\n",
    "document = BeautifulSoup(othello, \"html.parser\")\n",
    "#document\n",
    "#html_string"
   ]
  },
  {
   "cell_type": "code",
   "execution_count": 4,
   "id": "b12448af-2aaf-4e0b-b5c8-e7f0c7902920",
   "metadata": {},
   "outputs": [],
   "source": [
    "sent = sent_tokenize(othello)"
   ]
  },
  {
   "cell_type": "code",
   "execution_count": 5,
   "id": "5fd37318-8044-4bc9-8ae8-bf78aa61b24f",
   "metadata": {},
   "outputs": [],
   "source": [
    "words = []\n",
    "for s in sent:\n",
    "    for w in word_tokenize(s):\n",
    "        words.append(w)"
   ]
  },
  {
   "cell_type": "code",
   "execution_count": 6,
   "id": "cdfa3c75-4c14-4d45-bb93-80f45dfdf5c1",
   "metadata": {},
   "outputs": [],
   "source": [
    "myStopWords = list(punctuation + '’') + stopwords.words('english')\n",
    "wordsNoStop = []\n",
    "for i in words:\n",
    "    if i not in myStopWords:\n",
    "        wordsNoStop.append(i)\n",
    "#print(words)\n",
    "#print(wordsNoStop)"
   ]
  },
  {
   "cell_type": "code",
   "execution_count": 7,
   "id": "5063199e-b6b4-42f9-875e-d1e76a472fe5",
   "metadata": {},
   "outputs": [],
   "source": [
    "wordsNoStopComp = [w for w in words if w not in myStopWords]\n",
    "#print(wordsNoStopComp)"
   ]
  },
  {
   "cell_type": "code",
   "execution_count": 8,
   "id": "26fe6e9b-86a6-4c88-a070-636294574220",
   "metadata": {},
   "outputs": [],
   "source": [
    "othellostemmed = [WordNetLemmatizer().lemmatize(w) for w in wordsNoStopComp]"
   ]
  },
  {
   "cell_type": "code",
   "execution_count": 9,
   "id": "379629a1-cf28-4c55-b697-55fc678efbe0",
   "metadata": {},
   "outputs": [],
   "source": [
    "othellofreq = FreqDist(othellostemmed)"
   ]
  },
  {
   "cell_type": "code",
   "execution_count": 10,
   "id": "cfe9ad2a-0281-4546-98f1-24422538e5a7",
   "metadata": {},
   "outputs": [
    {
     "data": {
      "text/html": [
       "<div>\n",
       "<style scoped>\n",
       "    .dataframe tbody tr th:only-of-type {\n",
       "        vertical-align: middle;\n",
       "    }\n",
       "\n",
       "    .dataframe tbody tr th {\n",
       "        vertical-align: top;\n",
       "    }\n",
       "\n",
       "    .dataframe thead th {\n",
       "        text-align: right;\n",
       "    }\n",
       "</style>\n",
       "<table border=\"1\" class=\"dataframe\">\n",
       "  <thead>\n",
       "    <tr style=\"text-align: right;\">\n",
       "      <th></th>\n",
       "      <th>wordfreq</th>\n",
       "    </tr>\n",
       "  </thead>\n",
       "  <tbody>\n",
       "    <tr>\n",
       "      <th>0</th>\n",
       "      <td>(iago, 353)</td>\n",
       "    </tr>\n",
       "    <tr>\n",
       "      <th>1</th>\n",
       "      <td>(othello, 337)</td>\n",
       "    </tr>\n",
       "    <tr>\n",
       "      <th>2</th>\n",
       "      <td>(cassio, 248)</td>\n",
       "    </tr>\n",
       "    <tr>\n",
       "      <th>3</th>\n",
       "      <td>(desdemona, 223)</td>\n",
       "    </tr>\n",
       "    <tr>\n",
       "      <th>4</th>\n",
       "      <td>(thou, 143)</td>\n",
       "    </tr>\n",
       "    <tr>\n",
       "      <th>5</th>\n",
       "      <td>(emilia, 129)</td>\n",
       "    </tr>\n",
       "    <tr>\n",
       "      <th>6</th>\n",
       "      <td>(come, 106)</td>\n",
       "    </tr>\n",
       "    <tr>\n",
       "      <th>7</th>\n",
       "      <td>(shall, 100)</td>\n",
       "    </tr>\n",
       "    <tr>\n",
       "      <th>8</th>\n",
       "      <td>(roderigo, 98)</td>\n",
       "    </tr>\n",
       "    <tr>\n",
       "      <th>9</th>\n",
       "      <td>(work, 95)</td>\n",
       "    </tr>\n",
       "    <tr>\n",
       "      <th>10</th>\n",
       "      <td>(good, 92)</td>\n",
       "    </tr>\n",
       "    <tr>\n",
       "      <th>11</th>\n",
       "      <td>(love, 92)</td>\n",
       "    </tr>\n",
       "    <tr>\n",
       "      <th>12</th>\n",
       "      <td>(lord, 92)</td>\n",
       "    </tr>\n",
       "    <tr>\n",
       "      <th>13</th>\n",
       "      <td>(project, 89)</td>\n",
       "    </tr>\n",
       "    <tr>\n",
       "      <th>14</th>\n",
       "      <td>(ti, 86)</td>\n",
       "    </tr>\n",
       "    <tr>\n",
       "      <th>15</th>\n",
       "      <td>(let, 83)</td>\n",
       "    </tr>\n",
       "    <tr>\n",
       "      <th>16</th>\n",
       "      <td>(know, 82)</td>\n",
       "    </tr>\n",
       "    <tr>\n",
       "      <th>17</th>\n",
       "      <td>(thy, 80)</td>\n",
       "    </tr>\n",
       "    <tr>\n",
       "      <th>18</th>\n",
       "      <td>(would, 80)</td>\n",
       "    </tr>\n",
       "    <tr>\n",
       "      <th>19</th>\n",
       "      <td>(well, 80)</td>\n",
       "    </tr>\n",
       "  </tbody>\n",
       "</table>\n",
       "</div>"
      ],
      "text/plain": [
       "            wordfreq\n",
       "0        (iago, 353)\n",
       "1     (othello, 337)\n",
       "2      (cassio, 248)\n",
       "3   (desdemona, 223)\n",
       "4        (thou, 143)\n",
       "5      (emilia, 129)\n",
       "6        (come, 106)\n",
       "7       (shall, 100)\n",
       "8     (roderigo, 98)\n",
       "9         (work, 95)\n",
       "10        (good, 92)\n",
       "11        (love, 92)\n",
       "12        (lord, 92)\n",
       "13     (project, 89)\n",
       "14          (ti, 86)\n",
       "15         (let, 83)\n",
       "16        (know, 82)\n",
       "17         (thy, 80)\n",
       "18       (would, 80)\n",
       "19        (well, 80)"
      ]
     },
     "execution_count": 10,
     "metadata": {},
     "output_type": "execute_result"
    }
   ],
   "source": [
    "from collections import Counter\n",
    "Counter = Counter(othellofreq)\n",
    "most_occur = Counter.most_common(20)\n",
    "df = pd.DataFrame({'wordfreq':most_occur})\n",
    "df"
   ]
  },
  {
   "cell_type": "code",
   "execution_count": 11,
   "id": "48edf376-c5b0-4fc7-b225-265d1d29a303",
   "metadata": {},
   "outputs": [],
   "source": [
    "#see least common values\n",
    "\n",
    "#from collections import Counter\n",
    "#Counter = Counter(othellofreq)\n",
    "#least_occur = Counter.most_common()[:-50-1:-1]\n",
    "#df2 = pd.DataFrame({'wordfreq':least_occur})\n",
    "#df2"
   ]
  },
  {
   "cell_type": "code",
   "execution_count": 12,
   "id": "b21b1333-9ba0-4da2-b6f3-70a1cc9b9228",
   "metadata": {},
   "outputs": [
    {
     "data": {
      "text/html": [
       "<div>\n",
       "<style scoped>\n",
       "    .dataframe tbody tr th:only-of-type {\n",
       "        vertical-align: middle;\n",
       "    }\n",
       "\n",
       "    .dataframe tbody tr th {\n",
       "        vertical-align: top;\n",
       "    }\n",
       "\n",
       "    .dataframe thead th {\n",
       "        text-align: right;\n",
       "    }\n",
       "</style>\n",
       "<table border=\"1\" class=\"dataframe\">\n",
       "  <thead>\n",
       "    <tr style=\"text-align: right;\">\n",
       "      <th></th>\n",
       "      <th>wordfreq</th>\n",
       "    </tr>\n",
       "  </thead>\n",
       "  <tbody>\n",
       "    <tr>\n",
       "      <th>﻿the</th>\n",
       "      <td>1</td>\n",
       "    </tr>\n",
       "    <tr>\n",
       "      <th>grievously</th>\n",
       "      <td>1</td>\n",
       "    </tr>\n",
       "    <tr>\n",
       "      <th>grievous</th>\n",
       "      <td>1</td>\n",
       "    </tr>\n",
       "    <tr>\n",
       "      <th>grieving</th>\n",
       "      <td>1</td>\n",
       "    </tr>\n",
       "    <tr>\n",
       "      <th>grievance</th>\n",
       "      <td>1</td>\n",
       "    </tr>\n",
       "    <tr>\n",
       "      <th>...</th>\n",
       "      <td>...</td>\n",
       "    </tr>\n",
       "    <tr>\n",
       "      <th>thou</th>\n",
       "      <td>143</td>\n",
       "    </tr>\n",
       "    <tr>\n",
       "      <th>desdemona</th>\n",
       "      <td>223</td>\n",
       "    </tr>\n",
       "    <tr>\n",
       "      <th>cassio</th>\n",
       "      <td>248</td>\n",
       "    </tr>\n",
       "    <tr>\n",
       "      <th>othello</th>\n",
       "      <td>337</td>\n",
       "    </tr>\n",
       "    <tr>\n",
       "      <th>iago</th>\n",
       "      <td>353</td>\n",
       "    </tr>\n",
       "  </tbody>\n",
       "</table>\n",
       "<p>3811 rows × 1 columns</p>\n",
       "</div>"
      ],
      "text/plain": [
       "            wordfreq\n",
       "﻿the               1\n",
       "grievously         1\n",
       "grievous           1\n",
       "grieving           1\n",
       "grievance          1\n",
       "...              ...\n",
       "thou             143\n",
       "desdemona        223\n",
       "cassio           248\n",
       "othello          337\n",
       "iago             353\n",
       "\n",
       "[3811 rows x 1 columns]"
      ]
     },
     "execution_count": 12,
     "metadata": {},
     "output_type": "execute_result"
    }
   ],
   "source": [
    "df = pd.DataFrame({'wordfreq':othellofreq})\n",
    "df = df.sort_values(by='wordfreq').copy()\n",
    "df"
   ]
  },
  {
   "cell_type": "code",
   "execution_count": 13,
   "id": "73b23fd3-366f-43b7-99bb-8a19c5d429ba",
   "metadata": {},
   "outputs": [
    {
     "data": {
      "text/plain": [
       "4.214641826292311"
      ]
     },
     "execution_count": 13,
     "metadata": {},
     "output_type": "execute_result"
    }
   ],
   "source": [
    "df[\"wordfreq\"].mean()"
   ]
  },
  {
   "cell_type": "code",
   "execution_count": 14,
   "id": "d14e7887-6af1-401e-bac9-92fe8a0b0e20",
   "metadata": {},
   "outputs": [
    {
     "data": {
      "text/plain": [
       "1.0"
      ]
     },
     "execution_count": 14,
     "metadata": {},
     "output_type": "execute_result"
    }
   ],
   "source": [
    "df['wordfreq'].median()"
   ]
  },
  {
   "cell_type": "code",
   "execution_count": 15,
   "id": "090ebeea-61f9-40fc-8d5d-9c690356ae80",
   "metadata": {},
   "outputs": [
    {
     "data": {
      "text/plain": [
       "0    1\n",
       "dtype: int64"
      ]
     },
     "execution_count": 15,
     "metadata": {},
     "output_type": "execute_result"
    }
   ],
   "source": [
    "df['wordfreq'].mode()"
   ]
  },
  {
   "cell_type": "code",
   "execution_count": 16,
   "id": "8634ea64-1d4d-4780-a4e3-a999fb5eec1a",
   "metadata": {},
   "outputs": [
    {
     "data": {
      "text/plain": [
       "count    3811.000000\n",
       "mean        4.214642\n",
       "std        13.080835\n",
       "min         1.000000\n",
       "25%         1.000000\n",
       "50%         1.000000\n",
       "75%         3.000000\n",
       "max       353.000000\n",
       "Name: wordfreq, dtype: float64"
      ]
     },
     "execution_count": 16,
     "metadata": {},
     "output_type": "execute_result"
    }
   ],
   "source": [
    "#double check\n",
    "df['wordfreq'].describe()"
   ]
  },
  {
   "cell_type": "code",
   "execution_count": 17,
   "id": "f29dc359-5934-42d3-bad1-0dc61c07b186",
   "metadata": {},
   "outputs": [
    {
     "data": {
      "text/plain": [
       "1.9724499836011806"
      ]
     },
     "execution_count": 17,
     "metadata": {},
     "output_type": "execute_result"
    }
   ],
   "source": [
    "# Calculae 10% trimmed mean, meaning the smallest 10% and largest 10% of values have been removed\n",
    "from scipy import stats\n",
    "trimmedMean = stats.trim_mean(df.wordfreq, 0.1) \n",
    "trimmedMean"
   ]
  },
  {
   "cell_type": "markdown",
   "id": "381edeec-4e9d-49af-a515-f9e2601fa65f",
   "metadata": {},
   "source": [
    "This was an attempt to remove many of the words that only show up once as well as some of the words like character names that show up hundreds of times. By removing such words, we can try to get a better spread in our frequency data that is not as skewed. The removal of words that appear just once do not change the mean as much as the character names. The character names impact the mean quite a bit as their frequencies go up in the hundreds. This explains why our trimmed mean is smaller."
   ]
  },
  {
   "cell_type": "code",
   "execution_count": 18,
   "id": "b105027e-7cb6-453c-8e96-223a92001bf7",
   "metadata": {},
   "outputs": [
    {
     "data": {
      "text/plain": [
       "<AxesSubplot:title={'center':'Word Frequencies in Othello'}, ylabel='Frequency'>"
      ]
     },
     "execution_count": 18,
     "metadata": {},
     "output_type": "execute_result"
    },
    {
     "data": {
      "image/png": "[encoded data removed]",
      "text/plain": [
       "<Figure size 432x288 with 1 Axes>"
      ]
     },
     "metadata": {
      "needs_background": "light"
     },
     "output_type": "display_data"
    }
   ],
   "source": [
    "df['wordfreq'].plot(kind=\"hist\", y=\"wordfreq\", bins = 25, title='Word Frequencies in Othello')"
   ]
  },
  {
   "cell_type": "markdown",
   "id": "97a45222-4bd0-4145-96f4-83634f641778",
   "metadata": {},
   "source": [
    "We can see that most of our word frequency values are below 100 which makes sense as in Assignment 6 we say that only about 8 terms appeared in Othello more than 100 times. Looking closer at our histogram, we can see that most word frequency values are close to the value of 0, thus implying that many words were used only once or a couple times in the text. As a result, our mean value of 4.21 does make sense, but may be a bit high due to the 8 or so words that appear more than 100 times. The median of 1 also makes sense to be found close to the left side of the plot as the majority of words in the text appear just once compared to words that appear multiple times, and this also explains the mode's value of 1 as well. by removing the smallest 10% and largest 10% of values for the trimmed mean, we remove many of the words that appear over 100 times but we don't really remove many of the words that appear just once since the number of words that have a frequency of 1 is well beyond 50. As a result, our trimmed mean value of 1.97 is closer to our median and mode value which again makes sense for our data."
   ]
  },
  {
   "cell_type": "code",
   "execution_count": 19,
   "id": "8fe985e3-54e1-474c-aabc-75ac8e4fffa6",
   "metadata": {},
   "outputs": [
    {
     "data": {
      "text/plain": [
       "13.08083512253372"
      ]
     },
     "execution_count": 19,
     "metadata": {},
     "output_type": "execute_result"
    }
   ],
   "source": [
    "df['wordfreq'].std()"
   ]
  },
  {
   "cell_type": "code",
   "execution_count": 20,
   "id": "6566a78b-5a57-4409-bd6f-57fbb60e3041",
   "metadata": {},
   "outputs": [
    {
     "data": {
      "text/plain": [
       "1.0"
      ]
     },
     "execution_count": 20,
     "metadata": {},
     "output_type": "execute_result"
    }
   ],
   "source": [
    "df['wordfreq'].quantile(0.25)"
   ]
  },
  {
   "cell_type": "code",
   "execution_count": 21,
   "id": "b469c60c-da3a-40f9-83d1-ac053ed216bc",
   "metadata": {},
   "outputs": [
    {
     "data": {
      "text/plain": [
       "3.0"
      ]
     },
     "execution_count": 21,
     "metadata": {},
     "output_type": "execute_result"
    }
   ],
   "source": [
    "df['wordfreq'].quantile(0.75)"
   ]
  },
  {
   "cell_type": "code",
   "execution_count": 22,
   "id": "cfc5032d-30dc-4c06-a571-34b2afaa86fb",
   "metadata": {},
   "outputs": [
    {
     "data": {
      "text/plain": [
       "2.0"
      ]
     },
     "execution_count": 22,
     "metadata": {},
     "output_type": "execute_result"
    }
   ],
   "source": [
    "#interquartile range\n",
    "df['wordfreq'].quantile(0.75) - df['wordfreq'].quantile(0.25)"
   ]
  },
  {
   "cell_type": "markdown",
   "id": "69b55d07-da31-4a7c-9104-364c872dbba2",
   "metadata": {},
   "source": [
    "The standard deviation is 13.1 which is high but makes sense because of how varied our frequency values become towards the words with the highest values. This is also shown by how positively skewed our histrogram plot is. Our interquartile range is 2 which is close to both the median and mode. This makes sense because of how many of the 3811 words have a frequency value of 1 compared to those with higher values."
   ]
  },
  {
   "cell_type": "markdown",
   "id": "55f7889e-ca4a-4ddb-a2e4-2f5788cb9d16",
   "metadata": {},
   "source": [
    "### Step 3: Foray into machine learning\n",
    "\n",
    "- Import scikit-learn's example diabetes dataset as a Panda's dataframe with the following code:\n",
    "    - from sklearn import datasets\n",
    "    - df = datasets.load_diabetes(as_frame=True) \n",
    "    - features_df = df.data\n",
    "    - target_df = df.target\n",
    "- Use the following code to view a description of the dataset:\n",
    "    - print(df.DESCR)\n",
    "- Do some exploratory data analysis of the features, including getting summary statistical information\n",
    "- Find the column in features_df that has the highest correlation coefficient with the target values in target_df\n",
    "- Make a scatter plot of the target values vs this feature column's values and comment on how the plotted points match up with the correlation coefficient\n",
    "- Using this feature and target, perform linear regression with sklearn's LinearRegression\n",
    "- Print the coefficients of the model\n",
    "- Plot the linear fit on top of the scatter plot\n",
    "- Calculate (or output) the mean squared error and R-squared values for your fit\n",
    "- Try doing linear regression with another variable and check how the new fit's mean squared error and R-squared values change."
   ]
  },
  {
   "cell_type": "code",
   "execution_count": 23,
   "id": "a5b8e009-4021-4d1c-a6eb-a819c1f7297e",
   "metadata": {},
   "outputs": [],
   "source": [
    "from sklearn import datasets\n",
    "df = datasets.load_diabetes(as_frame=True)\n",
    "features_df = df.data\n",
    "target_df = df.target"
   ]
  },
  {
   "cell_type": "code",
   "execution_count": 24,
   "id": "4d1534c7-1fc5-4b7a-89bf-89463899fb35",
   "metadata": {},
   "outputs": [
    {
     "name": "stdout",
     "output_type": "stream",
     "text": [
      ".. _diabetes_dataset:\n",
      "\n",
      "Diabetes dataset\n",
      "----------------\n",
      "\n",
      "Ten baseline variables, age, sex, body mass index, average blood\n",
      "pressure, and six blood serum measurements were obtained for each of n =\n",
      "442 diabetes patients, as well as the response of interest, a\n",
      "quantitative measure of disease progression one year after baseline.\n",
      "\n",
      "**Data Set Characteristics:**\n",
      "\n",
      "  :Number of Instances: 442\n",
      "\n",
      "  :Number of Attributes: First 10 columns are numeric predictive values\n",
      "\n",
      "  :Target: Column 11 is a quantitative measure of disease progression one year after baseline\n",
      "\n",
      "  :Attribute Information:\n",
      "      - age     age in years\n",
      "      - sex\n",
      "      - bmi     body mass index\n",
      "      - bp      average blood pressure\n",
      "      - s1      tc, total serum cholesterol\n",
      "      - s2      ldl, low-density lipoproteins\n",
      "      - s3      hdl, high-density lipoproteins\n",
      "      - s4      tch, total cholesterol / HDL\n",
      "      - s5      ltg, possibly log of serum triglycerides level\n",
      "      - s6      glu, blood sugar level\n",
      "\n",
      "Note: Each of these 10 feature variables have been mean centered and scaled by the standard deviation times `n_samples` (i.e. the sum of squares of each column totals 1).\n",
      "\n",
      "Source URL:\n",
      "https://www4.stat.ncsu.edu/~boos/var.select/diabetes.html\n",
      "\n",
      "For more information see:\n",
      "Bradley Efron, Trevor Hastie, Iain Johnstone and Robert Tibshirani (2004) \"Least Angle Regression,\" Annals of Statistics (with discussion), 407-499.\n",
      "(https://web.stanford.edu/~hastie/Papers/LARS/LeastAngle_2002.pdf)\n"
     ]
    }
   ],
   "source": [
    "print(df.DESCR)"
   ]
  },
  {
   "cell_type": "code",
   "execution_count": 25,
   "id": "f48292d8-6240-41d0-ae62-8564c425b927",
   "metadata": {},
   "outputs": [
    {
     "data": {
      "text/html": [
       "<div>\n",
       "<style scoped>\n",
       "    .dataframe tbody tr th:only-of-type {\n",
       "        vertical-align: middle;\n",
       "    }\n",
       "\n",
       "    .dataframe tbody tr th {\n",
       "        vertical-align: top;\n",
       "    }\n",
       "\n",
       "    .dataframe thead th {\n",
       "        text-align: right;\n",
       "    }\n",
       "</style>\n",
       "<table border=\"1\" class=\"dataframe\">\n",
       "  <thead>\n",
       "    <tr style=\"text-align: right;\">\n",
       "      <th></th>\n",
       "      <th>age</th>\n",
       "      <th>sex</th>\n",
       "      <th>bmi</th>\n",
       "      <th>bp</th>\n",
       "      <th>s1</th>\n",
       "      <th>s2</th>\n",
       "      <th>s3</th>\n",
       "      <th>s4</th>\n",
       "      <th>s5</th>\n",
       "      <th>s6</th>\n",
       "    </tr>\n",
       "  </thead>\n",
       "  <tbody>\n",
       "    <tr>\n",
       "      <th>count</th>\n",
       "      <td>4.420000e+02</td>\n",
       "      <td>4.420000e+02</td>\n",
       "      <td>4.420000e+02</td>\n",
       "      <td>4.420000e+02</td>\n",
       "      <td>4.420000e+02</td>\n",
       "      <td>4.420000e+02</td>\n",
       "      <td>4.420000e+02</td>\n",
       "      <td>4.420000e+02</td>\n",
       "      <td>4.420000e+02</td>\n",
       "      <td>4.420000e+02</td>\n",
       "    </tr>\n",
       "    <tr>\n",
       "      <th>mean</th>\n",
       "      <td>-3.634285e-16</td>\n",
       "      <td>1.308343e-16</td>\n",
       "      <td>-8.045349e-16</td>\n",
       "      <td>1.281655e-16</td>\n",
       "      <td>-8.835316e-17</td>\n",
       "      <td>1.327024e-16</td>\n",
       "      <td>-4.574646e-16</td>\n",
       "      <td>3.777301e-16</td>\n",
       "      <td>-3.830854e-16</td>\n",
       "      <td>-3.412882e-16</td>\n",
       "    </tr>\n",
       "    <tr>\n",
       "      <th>std</th>\n",
       "      <td>4.761905e-02</td>\n",
       "      <td>4.761905e-02</td>\n",
       "      <td>4.761905e-02</td>\n",
       "      <td>4.761905e-02</td>\n",
       "      <td>4.761905e-02</td>\n",
       "      <td>4.761905e-02</td>\n",
       "      <td>4.761905e-02</td>\n",
       "      <td>4.761905e-02</td>\n",
       "      <td>4.761905e-02</td>\n",
       "      <td>4.761905e-02</td>\n",
       "    </tr>\n",
       "    <tr>\n",
       "      <th>min</th>\n",
       "      <td>-1.072256e-01</td>\n",
       "      <td>-4.464164e-02</td>\n",
       "      <td>-9.027530e-02</td>\n",
       "      <td>-1.123996e-01</td>\n",
       "      <td>-1.267807e-01</td>\n",
       "      <td>-1.156131e-01</td>\n",
       "      <td>-1.023071e-01</td>\n",
       "      <td>-7.639450e-02</td>\n",
       "      <td>-1.260974e-01</td>\n",
       "      <td>-1.377672e-01</td>\n",
       "    </tr>\n",
       "    <tr>\n",
       "      <th>25%</th>\n",
       "      <td>-3.729927e-02</td>\n",
       "      <td>-4.464164e-02</td>\n",
       "      <td>-3.422907e-02</td>\n",
       "      <td>-3.665645e-02</td>\n",
       "      <td>-3.424784e-02</td>\n",
       "      <td>-3.035840e-02</td>\n",
       "      <td>-3.511716e-02</td>\n",
       "      <td>-3.949338e-02</td>\n",
       "      <td>-3.324879e-02</td>\n",
       "      <td>-3.317903e-02</td>\n",
       "    </tr>\n",
       "    <tr>\n",
       "      <th>50%</th>\n",
       "      <td>5.383060e-03</td>\n",
       "      <td>-4.464164e-02</td>\n",
       "      <td>-7.283766e-03</td>\n",
       "      <td>-5.670611e-03</td>\n",
       "      <td>-4.320866e-03</td>\n",
       "      <td>-3.819065e-03</td>\n",
       "      <td>-6.584468e-03</td>\n",
       "      <td>-2.592262e-03</td>\n",
       "      <td>-1.947634e-03</td>\n",
       "      <td>-1.077698e-03</td>\n",
       "    </tr>\n",
       "    <tr>\n",
       "      <th>75%</th>\n",
       "      <td>3.807591e-02</td>\n",
       "      <td>5.068012e-02</td>\n",
       "      <td>3.124802e-02</td>\n",
       "      <td>3.564384e-02</td>\n",
       "      <td>2.835801e-02</td>\n",
       "      <td>2.984439e-02</td>\n",
       "      <td>2.931150e-02</td>\n",
       "      <td>3.430886e-02</td>\n",
       "      <td>3.243323e-02</td>\n",
       "      <td>2.791705e-02</td>\n",
       "    </tr>\n",
       "    <tr>\n",
       "      <th>max</th>\n",
       "      <td>1.107267e-01</td>\n",
       "      <td>5.068012e-02</td>\n",
       "      <td>1.705552e-01</td>\n",
       "      <td>1.320442e-01</td>\n",
       "      <td>1.539137e-01</td>\n",
       "      <td>1.987880e-01</td>\n",
       "      <td>1.811791e-01</td>\n",
       "      <td>1.852344e-01</td>\n",
       "      <td>1.335990e-01</td>\n",
       "      <td>1.356118e-01</td>\n",
       "    </tr>\n",
       "  </tbody>\n",
       "</table>\n",
       "</div>"
      ],
      "text/plain": [
       "                age           sex           bmi            bp            s1  \\\n",
       "count  4.420000e+02  4.420000e+02  4.420000e+02  4.420000e+02  4.420000e+02   \n",
       "mean  -3.634285e-16  1.308343e-16 -8.045349e-16  1.281655e-16 -8.835316e-17   \n",
       "std    4.761905e-02  4.761905e-02  4.761905e-02  4.761905e-02  4.761905e-02   \n",
       "min   -1.072256e-01 -4.464164e-02 -9.027530e-02 -1.123996e-01 -1.267807e-01   \n",
       "25%   -3.729927e-02 -4.464164e-02 -3.422907e-02 -3.665645e-02 -3.424784e-02   \n",
       "50%    5.383060e-03 -4.464164e-02 -7.283766e-03 -5.670611e-03 -4.320866e-03   \n",
       "75%    3.807591e-02  5.068012e-02  3.124802e-02  3.564384e-02  2.835801e-02   \n",
       "max    1.107267e-01  5.068012e-02  1.705552e-01  1.320442e-01  1.539137e-01   \n",
       "\n",
       "                 s2            s3            s4            s5            s6  \n",
       "count  4.420000e+02  4.420000e+02  4.420000e+02  4.420000e+02  4.420000e+02  \n",
       "mean   1.327024e-16 -4.574646e-16  3.777301e-16 -3.830854e-16 -3.412882e-16  \n",
       "std    4.761905e-02  4.761905e-02  4.761905e-02  4.761905e-02  4.761905e-02  \n",
       "min   -1.156131e-01 -1.023071e-01 -7.639450e-02 -1.260974e-01 -1.377672e-01  \n",
       "25%   -3.035840e-02 -3.511716e-02 -3.949338e-02 -3.324879e-02 -3.317903e-02  \n",
       "50%   -3.819065e-03 -6.584468e-03 -2.592262e-03 -1.947634e-03 -1.077698e-03  \n",
       "75%    2.984439e-02  2.931150e-02  3.430886e-02  3.243323e-02  2.791705e-02  \n",
       "max    1.987880e-01  1.811791e-01  1.852344e-01  1.335990e-01  1.356118e-01  "
      ]
     },
     "execution_count": 25,
     "metadata": {},
     "output_type": "execute_result"
    }
   ],
   "source": [
    "features_df.describe()"
   ]
  },
  {
   "cell_type": "code",
   "execution_count": 26,
   "id": "4b9c07a8-63ba-4868-8a9e-5c25bd04fc9a",
   "metadata": {},
   "outputs": [
    {
     "data": {
      "text/plain": [
       "0      151.0\n",
       "1       75.0\n",
       "2      141.0\n",
       "3      206.0\n",
       "4      135.0\n",
       "       ...  \n",
       "437    178.0\n",
       "438    104.0\n",
       "439    132.0\n",
       "440    220.0\n",
       "441     57.0\n",
       "Name: target, Length: 442, dtype: float64"
      ]
     },
     "execution_count": 26,
     "metadata": {},
     "output_type": "execute_result"
    }
   ],
   "source": [
    "target_df"
   ]
  },
  {
   "cell_type": "code",
   "execution_count": 27,
   "id": "e222e799-e89a-4b1c-824a-591687664511",
   "metadata": {},
   "outputs": [
    {
     "name": "stdout",
     "output_type": "stream",
     "text": [
      "correlation coefficient of age is [[1.         0.18788875]\n",
      " [0.18788875 1.        ]]\n",
      "correlation coefficient of sex is [[1.       0.043062]\n",
      " [0.043062 1.      ]]\n",
      "correlation coefficient of bmi is [[1.         0.58645013]\n",
      " [0.58645013 1.        ]]\n",
      "correlation coefficient of bp is [[1.         0.44148385]\n",
      " [0.44148385 1.        ]]\n",
      "correlation coefficient of s1 is [[1.         0.21202248]\n",
      " [0.21202248 1.        ]]\n",
      "correlation coefficient of s2 is [[1.         0.17405359]\n",
      " [0.17405359 1.        ]]\n",
      "correlation coefficient of s3 is [[ 1.         -0.39478925]\n",
      " [-0.39478925  1.        ]]\n",
      "correlation coefficient of s4 is [[1.         0.43045288]\n",
      " [0.43045288 1.        ]]\n",
      "correlation coefficient of s5 is [[1.         0.56588343]\n",
      " [0.56588343 1.        ]]\n",
      "correlation coefficient of s6 is [[1.         0.38248348]\n",
      " [0.38248348 1.        ]]\n"
     ]
    }
   ],
   "source": [
    "for i in features_df.columns:\n",
    "    corrcoef = np.corrcoef(features_df[i], target_df)\n",
    "    print(\"correlation coefficient of \" + i + \" is \" + str(corrcoef))"
   ]
  },
  {
   "cell_type": "markdown",
   "id": "aa03a0e4-fcba-4cf8-953a-59e921127482",
   "metadata": {},
   "source": [
    "bmi has the highest correlation coefficient with the target values in taget_df"
   ]
  },
  {
   "cell_type": "code",
   "execution_count": 32,
   "id": "0d752649-a07d-48ab-94f0-ced1071ba2ab",
   "metadata": {},
   "outputs": [
    {
     "data": {
      "text/plain": [
       "<AxesSubplot:title={'center':'target values vs bmi values'}, xlabel='bmi', ylabel='targets'>"
      ]
     },
     "execution_count": 32,
     "metadata": {},
     "output_type": "execute_result"
    },
    {
     "data": {
      "image/png": "[encoded data removed]",
      "text/plain": [
       "<Figure size 432x288 with 1 Axes>"
      ]
     },
     "metadata": {
      "needs_background": "light"
     },
     "output_type": "display_data"
    }
   ],
   "source": [
    "data2 = {'bmi':features_df['bmi'], 'targets':target_df}\n",
    "#data2\n",
    "df2 = pd.DataFrame(data2)\n",
    "df2.plot(kind = 'scatter', x = 'bmi', y = 'targets', title = 'target values vs bmi values')"
   ]
  },
  {
   "cell_type": "markdown",
   "id": "d602eb11-5c71-4935-a91b-9a2d10b99b73",
   "metadata": {},
   "source": [
    "The plotted points on the scatter plot show a relatively positive trend which matches the correlation coefficient value of 0.59 between the target values and the bmi values. However, we do see stray points as well as many points that do not create a perfect positive trend on the y = x line that prevent the correlation from being 1."
   ]
  },
  {
   "cell_type": "code",
   "execution_count": 33,
   "id": "99420862-e3b0-4877-8e0f-e3a6d41913ba",
   "metadata": {},
   "outputs": [
    {
     "name": "stdout",
     "output_type": "stream",
     "text": [
      "[949.43526038]\n"
     ]
    }
   ],
   "source": [
    "from sklearn.linear_model import LinearRegression\n",
    "reg = LinearRegression().fit(features_df[[\"bmi\"]], target_df)\n",
    "print(reg.coef_)"
   ]
  },
  {
   "cell_type": "code",
   "execution_count": 35,
   "id": "90f8bb34-5585-4551-b082-e38ff9861c83",
   "metadata": {},
   "outputs": [
    {
     "data": {
      "text/plain": [
       "[<matplotlib.lines.Line2D at 0x7fc2bdc29670>,\n",
       " <matplotlib.lines.Line2D at 0x7fc2bdc295b0>]"
      ]
     },
     "execution_count": 35,
     "metadata": {},
     "output_type": "execute_result"
    },
    {
     "data": {
      "image/png": "[encoded data removed]",
      "text/plain": [
       "<Figure size 432x288 with 1 Axes>"
      ]
     },
     "metadata": {
      "needs_background": "light"
     },
     "output_type": "display_data"
    }
   ],
   "source": [
    "import matplotlib.pyplot as plt\n",
    "ytrain = reg.intercept_ + reg.coef_ * features_df[\"bmi\"]\n",
    "plt.plot(features_df[\"bmi\"],target_df,'ro',features_df[\"bmi\"],ytrain,'b-')"
   ]
  },
  {
   "cell_type": "code",
   "execution_count": 39,
   "id": "cf01327f-7ca1-4f0d-b816-4d721806ad74",
   "metadata": {},
   "outputs": [
    {
     "name": "stdout",
     "output_type": "stream",
     "text": [
      "3890.4565854612724\n"
     ]
    }
   ],
   "source": [
    "from sklearn.metrics import mean_squared_error, r2_score\n",
    "\n",
    "# mean squared error\n",
    "print(mean_squared_error(target_df,ytrain))"
   ]
  },
  {
   "cell_type": "code",
   "execution_count": 40,
   "id": "b93918d1-b4ed-4def-ae43-be7cf7cc9382",
   "metadata": {},
   "outputs": [
    {
     "name": "stdout",
     "output_type": "stream",
     "text": [
      "0.3439237602253803\n"
     ]
    }
   ],
   "source": [
    "# r squared values\n",
    "print(r2_score(target_df, ytrain))"
   ]
  },
  {
   "cell_type": "code",
   "execution_count": 41,
   "id": "96783736-1b85-4f4b-a60f-659f72964d49",
   "metadata": {},
   "outputs": [
    {
     "data": {
      "text/plain": [
       "<AxesSubplot:title={'center':'target values vs s3 values'}, xlabel='s3', ylabel='targets'>"
      ]
     },
     "execution_count": 41,
     "metadata": {},
     "output_type": "execute_result"
    },
    {
     "data": {
      "image/png": "[encoded data removed]",
      "text/plain": [
       "<Figure size 432x288 with 1 Axes>"
      ]
     },
     "metadata": {
      "needs_background": "light"
     },
     "output_type": "display_data"
    }
   ],
   "source": [
    "data3 = {'s3':features_df['s3'], 'targets':target_df}\n",
    "#data3\n",
    "df3 = pd.DataFrame(data3)\n",
    "df3.plot(kind = 'scatter', x = 's3', y = 'targets', title = 'target values vs s3 values')"
   ]
  },
  {
   "cell_type": "code",
   "execution_count": 42,
   "id": "52d2ee28-1de1-4a37-ad56-c01a24e6cd66",
   "metadata": {},
   "outputs": [
    {
     "name": "stdout",
     "output_type": "stream",
     "text": [
      "[-639.14527932]\n"
     ]
    }
   ],
   "source": [
    "reg2 = LinearRegression().fit(features_df[[\"s3\"]], target_df)\n",
    "print(reg2.coef_)"
   ]
  },
  {
   "cell_type": "code",
   "execution_count": 43,
   "id": "55e59486-01aa-4435-be72-66c3ce5ba12f",
   "metadata": {},
   "outputs": [
    {
     "data": {
      "text/plain": [
       "[<matplotlib.lines.Line2D at 0x7fc2bda9ce20>,\n",
       " <matplotlib.lines.Line2D at 0x7fc2bda9cee0>]"
      ]
     },
     "execution_count": 43,
     "metadata": {},
     "output_type": "execute_result"
    },
    {
     "data": {
      "image/png": "[encoded data removed]",
      "text/plain": [
       "<Figure size 432x288 with 1 Axes>"
      ]
     },
     "metadata": {
      "needs_background": "light"
     },
     "output_type": "display_data"
    }
   ],
   "source": [
    "ytrain2 = reg2.intercept_ + reg2.coef_ * features_df[\"s3\"]\n",
    "plt.plot(features_df[\"s3\"],target_df,'ro',features_df[\"s3\"],ytrain2,'b-')"
   ]
  },
  {
   "cell_type": "code",
   "execution_count": 44,
   "id": "c7302006-8461-46cc-a1dc-9f475db0685b",
   "metadata": {},
   "outputs": [
    {
     "name": "stdout",
     "output_type": "stream",
     "text": [
      "5005.661620710653\n"
     ]
    }
   ],
   "source": [
    "# mean squared error\n",
    "print(mean_squared_error(target_df,ytrain2))"
   ]
  },
  {
   "cell_type": "code",
   "execution_count": 45,
   "id": "dc15e062-fe96-4b5a-9d62-c30fd4ae7b31",
   "metadata": {},
   "outputs": [
    {
     "name": "stdout",
     "output_type": "stream",
     "text": [
      "0.1558585524453051\n"
     ]
    }
   ],
   "source": [
    "# r squared values\n",
    "print(r2_score(target_df, ytrain2))"
   ]
  },
  {
   "cell_type": "markdown",
   "id": "34b85314-63cc-4b14-b9ed-ce28084f231f",
   "metadata": {},
   "source": [
    "I chose to use s3 as it had the lowest correlation coefficient with the target values. The mean squared error is much higher while the r squared value is lower compared to the last fit."
   ]
  }
 ],
 "metadata": {
  "kernelspec": {
   "display_name": "Python 3 (ipykernel)",
   "language": "python",
   "name": "python3"
  },
  "language_info": {
   "codemirror_mode": {
    "name": "ipython",
    "version": 3
   },
   "file_extension": ".py",
   "mimetype": "text/x-python",
   "name": "python",
   "nbconvert_exporter": "python",
   "pygments_lexer": "ipython3",
   "version": "3.9.6"
  }
 },
 "nbformat": 4,
 "nbformat_minor": 5
}
